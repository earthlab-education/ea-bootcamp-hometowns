{
 "cells": [
  {
   "cell_type": "markdown",
   "source": [
    "# Location\n",
    "45.7640° N, 4.8357° E"
   ],
   "metadata": {}
  },
  {
   "cell_type": "markdown",
   "source": [
    "# Population\n",
    "1,734,00\n",
    "\n",
    "https://www.macrotrends.net/cities/20972/lyon/population"
   ],
   "metadata": {}
  },
  {
   "cell_type": "markdown",
   "source": [
    "# Landmark\n",
    "Lyon Cathedral (French: Cathédrale Saint-Jean-Baptiste de Lyon) is a Roman Catholic church located on Place Saint-Jean in central Lyon, France.\n",
    "\n",
    "\n",
    "https://upload.wikimedia.org/wikipedia/commons/thumb/0/00/007._Photo_prise_depuis_les_toits_de_la_Basilique_Notre-Dame_de_Fourvière.JPG/1024px-007._Photo_prise_depuis_les_toits_de_la_Basilique_Notre-Dame_de_Fourvière.JPG"
   ],
   "metadata": {}
  },
  {
   "cell_type": "markdown",
   "source": [],
   "metadata": {}
  }
 ],
 "metadata": {
  "orig_nbformat": 4,
  "language_info": {
   "name": "python"
  }
 },
 "nbformat": 4,
 "nbformat_minor": 2
}