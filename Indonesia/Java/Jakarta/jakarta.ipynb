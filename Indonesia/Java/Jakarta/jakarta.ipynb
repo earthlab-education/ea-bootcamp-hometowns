{
 "cells": [
  {
   "cell_type": "markdown",
   "id": "293e71a7",
   "metadata": {},
   "source": [
    "## Location - 6°12'S, 106°49'E\n",
    "\n",
    "## Population - 10,562,088\n",
    "\n",
    "## Landmark - Historic City Hall of Batavia\n",
    "![Historic City Hall of Batavia](https://upload.wikimedia.org/wikipedia/commons/thumb/1/10/Jakarta_Indonesia_Jakarta-History-Museum-02.jpg/2880px-Jakarta_Indonesia_Jakarta-History-Museum-02.jpg)\n",
    "* The City Hall of Batavia was the colonial center of the Dutch East India Company in the late 18th Century"
   ]
  },
  {
   "cell_type": "markdown",
   "id": "c750da7e",
   "metadata": {},
   "source": [
    "# FACT\n",
    "\n",
    "* Suryaalam12 studied at this town for about 5 years \n",
    "You can visit the university profile at <a href=\"https://universitaspertamina.ac.id/\" target=\"_blank\">at this link\"</a>\n",
    "        "
   ]
  }
 ],
 "metadata": {
  "kernelspec": {
   "display_name": "Python 3 (ipykernel)",
   "language": "python",
   "name": "python3"
  },
  "language_info": {
   "codemirror_mode": {
    "name": "ipython",
    "version": 3
   },
   "file_extension": ".py",
   "mimetype": "text/x-python",
   "name": "python",
   "nbconvert_exporter": "python",
   "pygments_lexer": "ipython3",
   "version": "3.8.12"
  }
 },
 "nbformat": 4,
 "nbformat_minor": 5
}
