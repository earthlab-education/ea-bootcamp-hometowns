{
 "cells": [
  {
   "cell_type": "markdown",
   "id": "543b0b7c",
   "metadata": {},
   "source": [
    "## Location\n",
    "* latitude\n",
    "* longgitude"
   ]
  },
  {
   "cell_type": "markdown",
   "id": "ed2729c9",
   "metadata": {},
   "source": [
    "## Population\n",
    "* population: 285,068\n",
    "* the source can be found at <a href=\"htmtps://en.wikipedia.org/wiki/Saint_Paul,_Minnesota#Geography\" target=\"_blank\">this link</a>."
   ]
  },
  {
   "cell_type": "markdown",
   "id": "9968df70",
   "metadata": {},
   "source": [
    "## Landmark\n",
    "![Markdown Logo is here.](8307ecfd09a0a2938bcbd7d01a308f1.jpg)"
   ]
  }
 ],
 "metadata": {
  "kernelspec": {
   "display_name": "Python 3 (ipykernel)",
   "language": "python",
   "name": "python3"
  },
  "language_info": {
   "codemirror_mode": {
    "name": "ipython",
    "version": 3
   },
   "file_extension": ".py",
   "mimetype": "text/x-python",
   "name": "python",
   "nbconvert_exporter": "python",
   "pygments_lexer": "ipython3",
   "version": "3.8.15"
  }
 },
 "nbformat": 4,
 "nbformat_minor": 5
}
