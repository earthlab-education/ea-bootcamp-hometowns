{
 "cells": [
  {
   "cell_type": "markdown",
   "id": "3940a496-328f-47b1-a72b-fac149d33fe2",
   "metadata": {},
   "source": [
    "# Menifee\n",
    "## Lat: 33.6971° N\n",
    "## Lon: 117.1853° W\n",
    "## Pop: 106,401 [2021](https://www.census.gov/glossary/#term_Populationestimates)\n",
    "![Menifee](https://npr.brightspotcdn.com/dims4/default/e446215/2147483647/strip/true/crop/1200x800+0+0/resize/880x587!/quality/90/?url=http%3A%2F%2Fnpr-brightspot.s3.amazonaws.com%2F16%2Ff1%2F94f0763f40f88fd634c43ec8673b%2Fwelcome-menifee.jpg)\n",
    "Menifee Town Plaque"
   ]
  },
  {
   "cell_type": "code",
   "execution_count": 1,
   "id": "6a922331-89d3-455d-8345-3bdd82f94be2",
   "metadata": {},
   "outputs": [],
   "source": [
    "import pandas as pd"
   ]
  },
  {
   "cell_type": "code",
   "execution_count": 5,
   "id": "1a7b3f34-f8ca-49bc-809d-88dcace1ca0c",
   "metadata": {},
   "outputs": [
    {
     "data": {
      "text/html": [
       "<div>\n",
       "<style scoped>\n",
       "    .dataframe tbody tr th:only-of-type {\n",
       "        vertical-align: middle;\n",
       "    }\n",
       "\n",
       "    .dataframe tbody tr th {\n",
       "        vertical-align: top;\n",
       "    }\n",
       "\n",
       "    .dataframe thead th {\n",
       "        text-align: right;\n",
       "    }\n",
       "</style>\n",
       "<table border=\"1\" class=\"dataframe\">\n",
       "  <thead>\n",
       "    <tr style=\"text-align: right;\">\n",
       "      <th></th>\n",
       "      <th>who (OPTIONS: cu-student; certificate-student; other)</th>\n",
       "      <th>type</th>\n",
       "      <th>country</th>\n",
       "      <th>state</th>\n",
       "      <th>city</th>\n",
       "      <th>latitude</th>\n",
       "      <th>longitude</th>\n",
       "    </tr>\n",
       "  </thead>\n",
       "  <tbody>\n",
       "    <tr>\n",
       "      <th>0</th>\n",
       "      <td>cu-student</td>\n",
       "      <td>where I live now</td>\n",
       "      <td>United States</td>\n",
       "      <td>California</td>\n",
       "      <td>Menifee</td>\n",
       "      <td>33.6971 N</td>\n",
       "      <td>117.1853 W</td>\n",
       "    </tr>\n",
       "  </tbody>\n",
       "</table>\n",
       "</div>"
      ],
      "text/plain": [
       "  who (OPTIONS: cu-student; certificate-student; other)               type  \\\n",
       "0                                         cu-student      where I live now   \n",
       "\n",
       "          country        state      city    latitude    longitude  \n",
       "0   United States   California   Menifee   33.6971 N   117.1853 W  "
      ]
     },
     "execution_count": 5,
     "metadata": {},
     "output_type": "execute_result"
    }
   ],
   "source": [
    "pd.read_csv(\"c:/Users/4matt/earth-analytics/ea-bootcamp-hometowns/0-csv-files/united_states_menifee.csv\")"
   ]
  },
  {
   "cell_type": "code",
   "execution_count": null,
   "id": "debdf09e-3de3-469d-aa1f-54d978da707f",
   "metadata": {},
   "outputs": [],
   "source": []
  }
 ],
 "metadata": {
  "kernelspec": {
   "display_name": "Python 3 (ipykernel)",
   "language": "python",
   "name": "python3"
  },
  "language_info": {
   "codemirror_mode": {
    "name": "ipython",
    "version": 3
   },
   "file_extension": ".py",
   "mimetype": "text/x-python",
   "name": "python",
   "nbconvert_exporter": "python",
   "pygments_lexer": "ipython3",
   "version": "3.11.4"
  }
 },
 "nbformat": 4,
 "nbformat_minor": 5
}
