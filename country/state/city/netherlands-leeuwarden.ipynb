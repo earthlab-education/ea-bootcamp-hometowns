{
 "cells": [
  {
   "cell_type": "markdown",
   "id": "35adabbc-005b-4cfe-99db-a9695125dfcd",
   "metadata": {},
   "source": [
    "## Location\n",
    "\n",
    "Coordinates of Leeuwarden: 53.2012° N, 5.7999° E\n",
    "\n",
    "## Population\n",
    "\n",
    "93.765 based on [cbs](https://www.cbs.nl/nl-nl/maatwerk/2023/14/kerncijfers-wijken-en-buurten-2021)\n",
    "\n",
    "## Landmark\n",
    "![Oldenhove](https://upload.wikimedia.org/wikipedia/commons/4/44/Leeuwarden%2C_Netherlands_-_panoramio_%2826%29.jpg)\n",
    "This is the Oldenhove. It's a leaning and unfinished church tower in the medieval centre of Leeuwarden. The construction of the tower started in 1529 and it was completed in 1533. The Oldenhove is 39 metres high and has 183 steps."
   ]
  },
  {
   "cell_type": "code",
   "execution_count": null,
   "id": "0e1280a6-0daf-42aa-b6cc-d1ec74631937",
   "metadata": {},
   "outputs": [],
   "source": []
  }
 ],
 "metadata": {
  "kernelspec": {
   "display_name": "kaartkunst",
   "language": "python",
   "name": "kaartkunst"
  },
  "language_info": {
   "codemirror_mode": {
    "name": "ipython",
    "version": 3
   },
   "file_extension": ".py",
   "mimetype": "text/x-python",
   "name": "python",
   "nbconvert_exporter": "python",
   "pygments_lexer": "ipython3",
   "version": "3.11.1"
  }
 },
 "nbformat": 4,
 "nbformat_minor": 5
}
