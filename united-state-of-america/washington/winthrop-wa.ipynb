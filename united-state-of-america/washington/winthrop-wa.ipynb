{
 "cells": [
  {
   "cell_type": "markdown",
   "metadata": {},
   "source": [
    "# Winthrop, Washington\n",
    "\n",
    "### Location\n",
    "* Latitude: 48.4779° N\n",
    "* Longtiude: 120.1862° W\n",
    "\n",
    "### Population\n",
    "* 451 (estimate for 2019 according to [Census.gov](https://www.census.gov/programs-surveys/popest/data/tables.2019.html))\n",
    "\n",
    "### Methow River\n",
    "Winthrop sits at the confluence of the Methow and Chewuch Rivers, situated on the eastern edge of the North Cascades in Washington. The greater Methow Valley, which includes the city of Twisp and the community of Mazama, is home to about 2000 permanent residents. The Valley sits at the end of State Route 20, the North Cascades Highway, which is closed from November through May in a typical snow year. Winthrop is the eastern gateway to North Cascades National Park as well as the Pasayten Wilderness and Sawtooth Wilderness. The North Cascades Smokejumper Base, the birthplace of smokejumping, is located at the airport just south of Wintrop. The town hosts a number of events and boasts the largest network of groomed trails in the winter. Along with the \"Old West\" theme of downtown, this makes for a popular tourist destination. However, it is the rivers in the Valley that are the heart of the community, dating back to Native American settlements situated where the modern downtown is. \n",
    "\n",
    "![](https://www.mountainzone.com/wp-content/uploads/2016/11/bigstock-Methow-River-near-Winthrop-Washington-151842044-E1-e1480656040470-768x466.jpg \"The Methow River in Winthrop, WA\")"
   ]
  }
 ],
 "metadata": {
  "kernelspec": {
   "display_name": "Python 3",
   "language": "python",
   "name": "python3"
  },
  "language_info": {
   "codemirror_mode": {
    "name": "ipython",
    "version": 3
   },
   "file_extension": ".py",
   "mimetype": "text/x-python",
   "name": "python",
   "nbconvert_exporter": "python",
   "pygments_lexer": "ipython3",
   "version": "3.8.5"
  }
 },
 "nbformat": 4,
 "nbformat_minor": 4
}
