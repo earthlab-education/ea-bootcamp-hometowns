{
 "cells": [
  {
   "cell_type": "markdown",
   "metadata": {},
   "source": [
    "# Seattle, Washington\n",
    "\n",
    "### Location\n",
    "* Latitude: 47.6062° N\n",
    "* Longtiude: 122.3321° W\n",
    "\n",
    "### Population\n",
    "* 753,675 (estimate for 2019 according to [Census.gov](https://www.census.gov/programs-surveys/popest/data/tables.2019.html))\n",
    "\n",
    "### Duwamish River\n",
    "Seattle, the 14th largest metro area in the United States, is best known for landmarks like the Space Needle (right foreground of the photo), which was built for the 1962 World Fair. However, Seattle was inhabited by Coastal Salish people dating back to 10,000 BC, and the area now known as the Industrial District was inhabited starting in the 6th century AD. This area, punctuated by port cranes and ships, sits on a large-scale fill site that was naturally a coastal estuary. The Duwamish River (called the Green River upstream) was dredged into a modern waterway for the purpose of industrial corporations. Notably, the aerospace industry of Seattle (i.e. Boeing) benefited most from this transformation and heavily polluted the river. Today, the lower 5 miles of the Duwamish an EPA Superfund site, with high levels of PAH, PCB, mercury, and fecal coliform. The very same area is considered at extremely high risk of liquifaction during a large earthquake, like the predicted Cascadia Megathrust Earthquake. Meanwhile, the Duwamish tribe is still unrecognized by the federal government. \n",
    "\n",
    "![](https://upload.wikimedia.org/wikipedia/commons/thumb/3/36/SeattleQueenAnne.png/1920px-SeattleQueenAnne.png \"Mount Rainier and Elliot Bay frame downtown Seattle, WA at sunset. The Duwamish Waterway is at the far right.\")"
   ]
  }
 ],
 "metadata": {
  "kernelspec": {
   "display_name": "Python 3",
   "language": "python",
   "name": "python3"
  },
  "language_info": {
   "codemirror_mode": {
    "name": "ipython",
    "version": 3
   },
   "file_extension": ".py",
   "mimetype": "text/x-python",
   "name": "python",
   "nbconvert_exporter": "python",
   "pygments_lexer": "ipython3",
   "version": "3.8.5"
  }
 },
 "nbformat": 4,
 "nbformat_minor": 4
}
