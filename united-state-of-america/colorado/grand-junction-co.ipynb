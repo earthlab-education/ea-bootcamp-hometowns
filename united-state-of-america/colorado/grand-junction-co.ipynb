{
 "metadata": {
  "language_info": {
   "codemirror_mode": {
    "name": "ipython",
    "version": 3
   },
   "file_extension": ".py",
   "mimetype": "text/x-python",
   "name": "python",
   "nbconvert_exporter": "python",
   "pygments_lexer": "ipython3",
   "version": 3
  },
  "orig_nbformat": 4
 },
 "nbformat": 4,
 "nbformat_minor": 2,
 "cells": [
  {
   "source": [
    "# Location\n",
    "39.06728, -108.56445\n",
    "\n",
    "# Population\n",
    "62,062\n",
    "\n",
    "# Grand Mesa\n",
    "The Grand Mesa is a large (~1300 sqkm) mesa in Western Colorado. It currently stands about 1800m above the surrounding river valleys, but the mesa actually began as a valley itself. Around 10 million years ago, basalt flows erupting from vents in the Crag Crest area spread through the ancient valley, capping the Eocene shales and sandstones and protecting them from erosion."
   ],
   "cell_type": "markdown",
   "metadata": {}
  }
 ]
}