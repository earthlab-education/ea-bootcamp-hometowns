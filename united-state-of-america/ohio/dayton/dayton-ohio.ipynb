{
 "cells": [
  {
   "cell_type": "markdown",
   "id": "b0524467",
   "metadata": {},
   "source": [
    "# Location\n",
    "\n",
    "39.7589° N, 84.1916° W\n",
    "\n",
    "# Population\n",
    "\n",
    "136,598  [World Population Review](https://worldpopulationreview.com/us-cities/dayton-oh-population)\n",
    "\n",
    "# Landmark \n",
    "![Astoria-Megler Bridge](https://dynamic-media-cdn.tripadvisor.com/media/photo-o/08/b1/15/47/astoria-megler-bridge.jpg?w=1200&h=-1&s=1)"
   ]
  }
 ],
 "metadata": {
  "kernelspec": {
   "display_name": "Python 3 (ipykernel)",
   "language": "python",
   "name": "python3"
  },
  "language_info": {
   "codemirror_mode": {
    "name": "ipython",
    "version": 3
   },
   "file_extension": ".py",
   "mimetype": "text/x-python",
   "name": "python",
   "nbconvert_exporter": "python",
   "pygments_lexer": "ipython3",
   "version": "3.9.13"
  }
 },
 "nbformat": 4,
 "nbformat_minor": 5
}
