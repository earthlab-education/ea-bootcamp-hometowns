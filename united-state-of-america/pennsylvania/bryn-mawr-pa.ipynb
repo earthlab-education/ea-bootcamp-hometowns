{
 "cells": [
  {
   "cell_type": "code",
   "execution_count": null,
   "metadata": {},
   "outputs": [],
   "source": [
    "### latitude and longitude\n",
    "40.0230° N, 75.3152° W\n",
    "\n",
    "### attractions include Bryn Mawr College!\n",
    "https://images.app.goo.gl/aYf4DkkjvvRbJ5RSA\n",
    "\"Bryn Mawr College is in the city of Bryn Mawr. It is a small liberal arts college for women.\"    \n",
    "\n",
    "### most recent population\n",
    "3,779\n",
    "https://en.wikipedia.org/wiki/Bryn_Mawr,_Pennsylvania\n"
   ]
  }
 ],
 "metadata": {
  "kernelspec": {
   "display_name": "Python 3",
   "language": "python",
   "name": "python3"
  },
  "language_info": {
   "codemirror_mode": {
    "name": "ipython",
    "version": 3
   },
   "file_extension": ".py",
   "mimetype": "text/x-python",
   "name": "python",
   "nbconvert_exporter": "python",
   "pygments_lexer": "ipython3",
   "version": "3.8.5"
  }
 },
 "nbformat": 4,
 "nbformat_minor": 4
}
