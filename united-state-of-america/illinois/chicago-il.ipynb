{
 "cells": [
  {
   "cell_type": "markdown",
   "id": "73cc838d",
   "metadata": {},
   "source": [
    "# Chicago, IL - 41.882685, -87.623008"
   ]
  },
  {
   "cell_type": "markdown",
   "id": "7b2f49d9",
   "metadata": {},
   "source": [
    "##  Population: 2,746,388 <a href=\"https://en.wikipedia.org/wiki/Chicago\">Source</a>"
   ]
  },
  {
   "cell_type": "markdown",
   "id": "870bba99",
   "metadata": {},
   "source": [
    "### The Bean is a popular destination\n",
    "\n",
    "![The Bean](Downloads/bean.jpg)"
   ]
  }
 ],
 "metadata": {
  "kernelspec": {
   "display_name": "Python 3 (ipykernel)",
   "language": "python",
   "name": "python3"
  },
  "language_info": {
   "codemirror_mode": {
    "name": "ipython",
    "version": 3
   },
   "file_extension": ".py",
   "mimetype": "text/x-python",
   "name": "python",
   "nbconvert_exporter": "python",
   "pygments_lexer": "ipython3",
   "version": "3.8.13"
  }
 },
 "nbformat": 4,
 "nbformat_minor": 5
}
