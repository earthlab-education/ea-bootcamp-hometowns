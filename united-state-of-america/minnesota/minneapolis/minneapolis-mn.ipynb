{
 "cells": [
  {
   "cell_type": "markdown",
   "id": "f6a86ca5",
   "metadata": {},
   "source": [
    "# Location\n",
    "44° 59' 11.9616'' N, 93° 15' 29.2788'' W\n",
    "\n",
    "# Population\n",
    "418,075 ([WorldPopulationReview](https://worldpopulationreview.com/us-cities/minneapolis-mn-population))\n",
    "\n",
    "# Landmark\n",
    "### Minnehaha Falls\n",
    "![Minnehaha Falls](https://www.exploreminnesota.com/sites/default/files/listing_images/7b5e7cb018e598d6afdd0f74247b18baac3f2774_37.jpg)\n",
    "A famous local landmark right across from a Dairy Queen Orange Julius. People often go behind the falls and get themselves in a pickle.\n",
    "\n"
   ]
  }
 ],
 "metadata": {
  "kernelspec": {
   "display_name": "Python 3 (ipykernel)",
   "language": "python",
   "name": "python3"
  },
  "language_info": {
   "codemirror_mode": {
    "name": "ipython",
    "version": 3
   },
   "file_extension": ".py",
   "mimetype": "text/x-python",
   "name": "python",
   "nbconvert_exporter": "python",
   "pygments_lexer": "ipython3",
   "version": "3.10.9"
  }
 },
 "nbformat": 4,
 "nbformat_minor": 5
}
