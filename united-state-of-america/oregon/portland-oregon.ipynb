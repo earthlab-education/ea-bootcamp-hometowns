{
 "cells": [
  {
   "cell_type": "markdown",
   "metadata": {},
   "source": [
    "# Portland, Oregon\n",
    "\n",
    "\n"
   ]
  },
  {
   "cell_type": "markdown",
   "metadata": {},
   "source": [
    "## Lat/Long Coordinates\n",
    "45.5051° N, 122.6750° N"
   ]
  },
  {
   "cell_type": "markdown",
   "metadata": {},
   "source": [
    "## Population\n",
    "654,741\n",
    "[Source with Stats](https://www.census.gov/quickfacts/portlandcityoregon)"
   ]
  },
  {
   "cell_type": "markdown",
   "metadata": {},
   "source": [
    "## Landmark\n",
    "![Japanese Gardens](https://japanesegarden.org/wp-content/uploads/2019/10/Fall-Colors-HD-20191022-by-Chris-Ruggles-21-900x600.jpg)\n",
    "The Japanese Gardens in Portland, OR was designed in 1963 and has been said to be beautiful and the most authentic Japanese garden in the world, outside of Japan, by the former Ambassador of Japan to the United States Nobuo Matsunaga. The Japanese garden is located in Portland's Washington Park which sits in the hills of Portland that overlook the city. The Garden covers 12 acreas and consists of 8 different garden styles including a Japanese Tea House and views of Mt. Hood. -SR\n"
   ]
  }
 ],
 "metadata": {
  "kernelspec": {
   "display_name": "Python 3",
   "language": "python",
   "name": "python3"
  },
  "language_info": {
   "codemirror_mode": {
    "name": "ipython",
    "version": 3
   },
   "file_extension": ".py",
   "mimetype": "text/x-python",
   "name": "python",
   "nbconvert_exporter": "python",
   "pygments_lexer": "ipython3",
   "version": "3.8.5"
  }
 },
 "nbformat": 4,
 "nbformat_minor": 4
}
