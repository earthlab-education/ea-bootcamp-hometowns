{
  "cells": [
    {
      "cell_type": "markdown",
      "metadata": {
        "id": "view-in-github",
        "colab_type": "text"
      },
      "source": [
        "<a href=\"https://colab.research.google.com/github/mala7891/ea-bootcamp-hometowns/blob/master/united-states-wyoming-moose.ipynb\" target=\"_parent\"><img src=\"https://colab.research.google.com/assets/colab-badge.svg\" alt=\"Open In Colab\"/></a>"
      ]
    },
    {
      "cell_type": "markdown",
      "metadata": {
        "id": "OMJJ-t9rk4gk"
      },
      "source": [
        "# Moose, Wyoming\n",
        "\n",
        "### Lat/Long\n",
        "43.6558° N, 110.7183° W\n",
        "\n",
        "### Population: <a href=\"https://worldpopulationreview.com/us-cities/moose-wilson-road-wy-population\" target=\"_blank\">1,629</a>\n",
        "\n",
        "### Grand Teton National Park: ![image](https://www.visittheusa.com/sites/default/files/styles/hero_l_x2/public/images/hero_media_image/2016-10/Grand%20Teton.jpg?h=97b787f8&itok=3YPpEC1G)\n",
        "\n",
        "The Tetons are the youngest range in the Rocky Mountains and some of the youngest mountains in the world.\n",
        "\n",
        "At Grand Teton National Park, eight peaks towering above 12,000 feet exist within. The highest peak, the Grand Teton, rises 13,770 feet above sea level."
      ]
    },
    {
      "cell_type": "markdown",
      "source": [],
      "metadata": {
        "id": "LI2XdW57o--4"
      }
    }
  ],
  "metadata": {
    "kernelspec": {
      "display_name": "Python 3",
      "language": "python",
      "name": "python3"
    },
    "language_info": {
      "codemirror_mode": {
        "name": "ipython",
        "version": 3
      },
      "file_extension": ".py",
      "mimetype": "text/x-python",
      "name": "python",
      "nbconvert_exporter": "python",
      "pygments_lexer": "ipython3",
      "version": "3.7.3"
    },
    "colab": {
      "provenance": [],
      "include_colab_link": true
    }
  },
  "nbformat": 4,
  "nbformat_minor": 0
}
