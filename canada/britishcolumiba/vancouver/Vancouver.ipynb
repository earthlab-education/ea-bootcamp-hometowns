{
 "cells": [
  {
   "cell_type": "markdown",
   "id": "90fed320",
   "metadata": {
    "ExecuteTime": {
     "end_time": "2023-01-03T01:35:04.989155Z",
     "start_time": "2023-01-03T01:35:04.983148Z"
    }
   },
   "source": [
    "# Location\n",
    "49.2827°N, 123.1207°W\n",
    "\n",
    "# Population \n",
    "600,000 in city area according to [population stat, world population data](https://populationstat.com/canada/vancouver)\n",
    "\n",
    "# Landmark \n",
    "Grouse Mountain is located in downtown Toronto.\n",
    "![destinationvancouver.com](https://assets.simpleviewinc.com/simpleview/image/upload/c_limit,q_65,w_845/v1/clients/vancouverbc/a-guide-to-grouse-mountain_930ab127-285b-4263-b2b2-7d8c8c250717.jpg)"
   ]
  },
  {
   "cell_type": "code",
   "execution_count": null,
   "id": "03095277",
   "metadata": {},
   "outputs": [],
   "source": []
  }
 ],
 "metadata": {
  "kernelspec": {
   "display_name": "Python 3 (ipykernel)",
   "language": "python",
   "name": "python3"
  },
  "language_info": {
   "codemirror_mode": {
    "name": "ipython",
    "version": 3
   },
   "file_extension": ".py",
   "mimetype": "text/x-python",
   "name": "python",
   "nbconvert_exporter": "python",
   "pygments_lexer": "ipython3",
   "version": "3.8.13"
  }
 },
 "nbformat": 4,
 "nbformat_minor": 5
}
