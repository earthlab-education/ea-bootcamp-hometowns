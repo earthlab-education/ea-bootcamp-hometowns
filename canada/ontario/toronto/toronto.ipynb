{
 "cells": [
  {
   "cell_type": "markdown",
   "id": "e48ea889",
   "metadata": {},
   "source": [
    "# Location \n",
    "43.6532°N, 79.3832°W\n",
    "\n",
    "\n",
    "# Population \n",
    "2,600,000 in city area according to [population stat, world population data](https://populationstat.com/canada/toronto)\n",
    "\n",
    "# Landmark \n",
    "CN tower is located in downtown Toronto.\n",
    "![CN tower information](https://s3.amazonaws.com/images.skyscrapercenter.com/thumbs/34530_500x650.jpg)"
   ]
  },
  {
   "cell_type": "code",
   "execution_count": null,
   "id": "2a3a9cd3",
   "metadata": {},
   "outputs": [],
   "source": []
  }
 ],
 "metadata": {
  "kernelspec": {
   "display_name": "Python 3 (ipykernel)",
   "language": "python",
   "name": "python3"
  },
  "language_info": {
   "codemirror_mode": {
    "name": "ipython",
    "version": 3
   },
   "file_extension": ".py",
   "mimetype": "text/x-python",
   "name": "python",
   "nbconvert_exporter": "python",
   "pygments_lexer": "ipython3",
   "version": "3.8.13"
  }
 },
 "nbformat": 4,
 "nbformat_minor": 5
}
