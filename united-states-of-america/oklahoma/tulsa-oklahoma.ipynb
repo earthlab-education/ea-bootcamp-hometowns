{
 "cells": [
  {
   "cell_type": "markdown",
   "metadata": {},
   "source": [
    "# Tulsa, Oklahoma - United States of America\n",
    "\n",
    "### Location: 36°09.4' N      95°59.5' W\n",
    "\n",
    "### Population: 396,543 (2020) [_Data Source_](https://worldpopulationreview.com/us-cities/tulsa-ok-population)\n",
    "\n",
    "### Landmark: Gathering Place\n",
    "\n",
    "![Gathering Place aerial view from north](https://assets.speakcdn.com/assets/2511/after_1_1.jpg)\n",
    "\n",
    "Gathering Place is a world class riverfront park designed for all to enjoy through programming, interactive play elements and beautiful landscapes. An inclusive space that strives to engage, educate and excite while creating distinct memories for all who gather. (Description from www.gatheringplace.org)\n",
    "\n",
    "\n"
   ]
  },
  {
   "cell_type": "code",
   "execution_count": null,
   "metadata": {},
   "outputs": [],
   "source": []
  }
 ],
 "metadata": {
  "kernelspec": {
   "display_name": "Python 3",
   "language": "python",
   "name": "python3"
  },
  "language_info": {
   "codemirror_mode": {
    "name": "ipython",
    "version": 3
   },
   "file_extension": ".py",
   "mimetype": "text/x-python",
   "name": "python",
   "nbconvert_exporter": "python",
   "pygments_lexer": "ipython3",
   "version": "3.8.5"
  }
 },
 "nbformat": 4,
 "nbformat_minor": 4
}
