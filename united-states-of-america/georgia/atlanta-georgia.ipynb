{
 "cells": [
  {
   "attachments": {},
   "cell_type": "markdown",
   "metadata": {},
   "source": [
    "### Lat/Long\n",
    "33.7490° N, 84.3880° W\n",
    "\n",
    "### Population: <a href=\"https://www.google.com/publicdata/explore?ds=kf7tgg1uo9ude_&met_y=population&idim=place:1304000&hl=en&dl=en\" target=\"_blank\">486,290</a>\n",
    "\n",
    "### Centennial Olympic Park: ![Centennial Olympic Park](https://www.pcma.org/wp-content/uploads/2019/06/Atlanta-Olympic-Park.jpg)\n",
    "\n",
    "The 1996 Olympic was hed at this park located in Downtown, Atlanta. "
   ]
  },
  {
   "cell_type": "code",
   "execution_count": null,
   "metadata": {},
   "outputs": [],
   "source": []
  }
 ],
 "metadata": {
  "kernelspec": {
   "display_name": "Python 3",
   "language": "python",
   "name": "python3"
  },
  "language_info": {
   "codemirror_mode": {
    "name": "ipython",
    "version": 3
   },
   "file_extension": ".py",
   "mimetype": "text/x-python",
   "name": "python",
   "nbconvert_exporter": "python",
   "pygments_lexer": "ipython3",
   "version": "3.7.3"
  }
 },
 "nbformat": 4,
 "nbformat_minor": 2
}
