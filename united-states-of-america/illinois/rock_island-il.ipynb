{
 "cells": [
  {
   "cell_type": "markdown",
   "metadata": {},
   "source": [
    "## ROCK ISLAND - ILLINOIS \n",
    "\n",
    "Located at 41.48916666666667°N -90.57305555555556W\n",
    "\n",
    "## Population\n",
    "\n",
    "The population of Rock Island is estimated at 39,018. This number was sourced from the official  <a href=\"https://www.rigov.org/98/Rock-Island-Demographics\" target=\"_blank\">City of Rock Island website</a>\n",
    "\n",
    "## Local Land Mark\n",
    "\n",
    "Black Hawk State Historic Site was inhabited by Native Americans for over 12,000 years. The site is located on a bluff above the Rock Island river and within 3 miles of the confluence of the Mississippi River and the Rock Island River. The statue in the image is a rendition of Chief Black Hawk, who was a prominent member of the Sauk Tribe. \n",
    "\n",
    "![Black Hawk State Historic Site](https://bloximages.chicago2.vip.townnews.com/qctimes.com/content/tncms/assets/v3/editorial/0/d8/0d82bb86-cf24-5300-82ff-02275b5a7e8e/5962cb834132d.image.jpg?resize=1200%2C935)\n"
   ]
  },
  {
   "cell_type": "code",
   "execution_count": null,
   "metadata": {},
   "outputs": [],
   "source": []
  }
 ],
 "metadata": {
  "kernelspec": {
   "display_name": "Python 3",
   "language": "python",
   "name": "python3"
  },
  "language_info": {
   "codemirror_mode": {
    "name": "ipython",
    "version": 3
   },
   "file_extension": ".py",
   "mimetype": "text/x-python",
   "name": "python",
   "nbconvert_exporter": "python",
   "pygments_lexer": "ipython3",
   "version": "3.7.3"
  }
 },
 "nbformat": 4,
 "nbformat_minor": 2
}
