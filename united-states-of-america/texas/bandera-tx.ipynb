{
 "cells": [
  {
   "cell_type": "markdown",
   "metadata": {},
   "source": [
    "### Lat/Long\n",
    "\n",
    "29.7266° N, 99.0736° W"
   ]
  },
  {
   "cell_type": "markdown",
   "metadata": {},
   "source": [
    "### Population\n",
    "\n",
    "857 at the 2010 census"
   ]
  },
  {
   "cell_type": "markdown",
   "metadata": {},
   "source": [
    "**Arkey Blues**\n",
    "<figure>\n",
    "   <a href=\"https://s3-media3.fl.yelpcdn.com/bphoto/ZbJEy5EextuRQmp1tpW9aQ/o.jpg\">\n",
    "   <img src=\"https://s3-media3.fl.yelpcdn.com/bphoto/ZbJEy5EextuRQmp1tpW9aQ/o.jpg\" alt=\"A person holding some harvested Mongongo Berries, Source: bio-innovation.org\"></a>\n",
    "</figure>"
   ]
  },
  {
   "cell_type": "code",
   "execution_count": null,
   "metadata": {},
   "outputs": [],
   "source": []
  }
 ],
 "metadata": {
  "kernelspec": {
   "display_name": "Python 3",
   "language": "python",
   "name": "python3"
  },
  "language_info": {
   "codemirror_mode": {
    "name": "ipython",
    "version": 3
   },
   "file_extension": ".py",
   "mimetype": "text/x-python",
   "name": "python",
   "nbconvert_exporter": "python",
   "pygments_lexer": "ipython3",
   "version": "3.7.3"
  }
 },
 "nbformat": 4,
 "nbformat_minor": 2
}
