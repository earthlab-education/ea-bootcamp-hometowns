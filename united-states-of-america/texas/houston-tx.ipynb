{
 "cells": [
  {
   "cell_type": "markdown",
   "metadata": {},
   "source": [
    "## Latitute /Longitude\n",
    "\n",
    "29.7604° N, 95.3698° W"
   ]
  },
  {
   "cell_type": "markdown",
   "metadata": {},
   "source": [
    "## Population\n",
    "\n",
    "<a href=\"http://worldpopulationreview.com/us-cities/houston-population/\" target=\"_blank\"> 2,239,558</a>"
   ]
  },
  {
   "cell_type": "markdown",
   "metadata": {},
   "source": [
    "## Menil Collection\n",
    "\n",
    "![Menil Collection in Houston.](https://alexancitycentre.com/wp-content/uploads/2019/03/CityCentre-Mar-1-image.jpg)\n",
    "\n",
    "Shopping Grandeur in Houston Texas, US is not only the biggest mall in the city, but one of the biggest in the entire nation, housing approximately 400 retail and department stores and 60 dining options within its 2.4 million square feet of space. It’s located around ten miles away from our luxury apartments, meaning that you can drive to their parking lot in under twenty minutes. "
   ]
  },
  {
   "cell_type": "code",
   "execution_count": null,
   "metadata": {},
   "outputs": [],
   "source": []
  }
 ],
 "metadata": {
  "kernelspec": {
   "display_name": "Python 3",
   "language": "python",
   "name": "python3"
  },
  "language_info": {
   "codemirror_mode": {
    "name": "ipython",
    "version": 3
   },
   "file_extension": ".py",
   "mimetype": "text/x-python",
   "name": "python",
   "nbconvert_exporter": "python",
   "pygments_lexer": "ipython3",
   "version": "3.7.3"
  }
 },
 "nbformat": 4,
 "nbformat_minor": 2
}
