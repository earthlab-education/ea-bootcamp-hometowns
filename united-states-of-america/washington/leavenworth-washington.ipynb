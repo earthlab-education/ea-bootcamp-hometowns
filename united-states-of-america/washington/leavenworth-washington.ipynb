{
 "cells": [
  {
   "cell_type": "markdown",
   "metadata": {},
   "source": [
    "# Leavenworth, Washington - United States of America\n",
    "\n",
    "### Location: 47° 35.8′ N     120° 39.9′  W\n",
    "\n",
    "### Population: 2,032 (2020) [_Data Source_](https://worldpopulationreview.com/us-cities/leavenworth-wa-population)\n",
    "\n",
    "### Landmark: Bavarian village\n",
    "\n",
    "![Leavenworth Bavarian facades](https://images.squarespace-cdn.com/content/v1/5475c689e4b05a135b085d65/1545402896507-C65PGRE7QP5DPP317O5R/ke17ZwdGBToddI8pDm48kDW6a-KjYmcPmCKxmIOcRX0UqsxRUqqbr1mOJYKfIPR7LoDQ9mXPOjoJoqy81S2I8N_N4V1vUb5AoIIIbLZhVYy7Mythp_T-mtop-vrsUOmeInPi9iDjx9w8K4ZfjXt2dqTKZ0PXGZzd37N2c1wfBhjJmjTNv9-oSslRm_axr9iBH3bqxw7fF48mhrq5Ulr0Hg/Leavenworth%2BWashington%2BChristmas%2BLighing%2BFestival.jpg)\n",
    "\n",
    "Leavenworth is a major tourism destination located on the eastern side of the Cascades mountain range in Washington State. The alpine setting and architectural style of the town are remarkably reminiscent of Bavaria. The theme town idea was born of a 1960's-era civic initiative to revitalize Leavenworth's economy from that of a struggling logging community to one that capitalized on tourism. "
   ]
  },
  {
   "cell_type": "code",
   "execution_count": null,
   "metadata": {},
   "outputs": [],
   "source": []
  }
 ],
 "metadata": {
  "kernelspec": {
   "display_name": "Python 3",
   "language": "python",
   "name": "python3"
  },
  "language_info": {
   "codemirror_mode": {
    "name": "ipython",
    "version": 3
   },
   "file_extension": ".py",
   "mimetype": "text/x-python",
   "name": "python",
   "nbconvert_exporter": "python",
   "pygments_lexer": "ipython3",
   "version": "3.8.5"
  }
 },
 "nbformat": 4,
 "nbformat_minor": 4
}
