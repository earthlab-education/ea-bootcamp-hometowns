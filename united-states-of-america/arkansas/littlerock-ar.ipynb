{
 "cells": [
  {
   "cell_type": "markdown",
   "metadata": {},
   "source": [
    "## Lat/Long\n",
    "\n",
    "34.7465° N, 92.2896° W"
   ]
  },
  {
   "cell_type": "markdown",
   "metadata": {},
   "source": [
    "## Population \n",
    "\n",
    "[197,881](https://www.census.gov/quickfacts/fact/table/littlerockcityarkansas/PST040218)"
   ]
  },
  {
   "cell_type": "markdown",
   "metadata": {},
   "source": [
    "## Little Rock Central High\n",
    "\n",
    "![LRCH](https://www.lrsd.org/cms/lib/AR02203631/Centricity/ModuleInstance/5143/Central%20Hugh%20Shutterstock.jpg)\n",
    "\n",
    "Little Rock Central High became well known in the fall of 1957 when 9 African American students attempted to attend this all white school. Governor Orval Faubus called out the natioanl guard to stop integration.  President Dwight D. Eisenhower recalled the national guard to force integration.  The effects of this year are still felt in the school district today.  Little Rock Central High is still an active highschool (I graduated from there in 1992) and it is also a National Park Service National Historic Site.\n"
   ]
  },
  {
   "cell_type": "code",
   "execution_count": null,
   "metadata": {},
   "outputs": [],
   "source": []
  }
 ],
 "metadata": {
  "kernelspec": {
   "display_name": "Python 3",
   "language": "python",
   "name": "python3"
  },
  "language_info": {
   "codemirror_mode": {
    "name": "ipython",
    "version": 3
   },
   "file_extension": ".py",
   "mimetype": "text/x-python",
   "name": "python",
   "nbconvert_exporter": "python",
   "pygments_lexer": "ipython3",
   "version": "3.7.3"
  }
 },
 "nbformat": 4,
 "nbformat_minor": 2
}
