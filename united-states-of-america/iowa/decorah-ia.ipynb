{
 "cells": [
  {
   "cell_type": "markdown",
   "metadata": {},
   "source": [
    "# Decorah, Iowa\n",
    "\n",
    "* Latitude: 43.3033° N\n",
    "* Longitude: 91.7857° W"
   ]
  },
  {
   "cell_type": "markdown",
   "metadata": {},
   "source": [
    "### Population: 7,594 (2018)"
   ]
  },
  {
   "cell_type": "markdown",
   "metadata": {},
   "source": [
    "### Landmark: \n",
    "\n",
    "Decorah is a city in and the county seat of Winneshiek County, Iowa, United States. The population was 8,127 at the 2010 census. Home of the _Whippy Dip_ Decorah is located at the intersection of State Highway 9 and U.S. Route 52, and is the largest community in Winneshiek County. [Wikipedia](https://en.wikipedia.org/wiki/Decorah,_Iowa)\n",
    "\n",
    "![](https://mnprairieroots.files.wordpress.com/2013/07/the-whippy-dip-overview.jpg \"Whippy Dip\")"
   ]
  },
  {
   "cell_type": "code",
   "execution_count": null,
   "metadata": {},
   "outputs": [],
   "source": []
  }
 ],
 "metadata": {
  "kernelspec": {
   "display_name": "Python 3",
   "language": "python",
   "name": "python3"
  },
  "language_info": {
   "codemirror_mode": {
    "name": "ipython",
    "version": 3
   },
   "file_extension": ".py",
   "mimetype": "text/x-python",
   "name": "python",
   "nbconvert_exporter": "python",
   "pygments_lexer": "ipython3",
   "version": "3.7.6"
  }
 },
 "nbformat": 4,
 "nbformat_minor": 2
}
