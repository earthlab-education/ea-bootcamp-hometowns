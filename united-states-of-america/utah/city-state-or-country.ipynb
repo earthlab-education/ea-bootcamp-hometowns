{
 "cells": [
  {
   "cell_type": "markdown",
   "metadata": {},
   "source": [
    "### Salt Lake City, Utah\n",
    "* 40.7608° N, 111.8910° W"
   ]
  },
  {
   "cell_type": "markdown",
   "metadata": {},
   "source": [
    "### Population\n",
    "* 2018: [1,152,000](https://www.census.gov/quickfacts/fact/table/saltlakecountyutah,UT/PST045218)"
   ]
  },
  {
   "cell_type": "markdown",
   "metadata": {},
   "source": [
    "### Utah State Capitol\n",
    "* This is the house of government for the state of Utah\n",
    "\n",
    "![state capitol](https://upload.wikimedia.org/wikipedia/commons/thumb/5/5f/Utah_State_Capitol%2C_Salt_Lake_City_%287631480380%29.jpg/1920px-Utah_State_Capitol%2C_Salt_Lake_City_%287631480380%29.jpg)\n"
   ]
  },
  {
   "cell_type": "code",
   "execution_count": null,
   "metadata": {},
   "outputs": [],
   "source": []
  }
 ],
 "metadata": {
  "kernelspec": {
   "display_name": "Python 3",
   "language": "python",
   "name": "python3"
  },
  "language_info": {
   "codemirror_mode": {
    "name": "ipython",
    "version": 3
   },
   "file_extension": ".py",
   "mimetype": "text/x-python",
   "name": "python",
   "nbconvert_exporter": "python",
   "pygments_lexer": "ipython3",
   "version": "3.7.3"
  }
 },
 "nbformat": 4,
 "nbformat_minor": 2
}
