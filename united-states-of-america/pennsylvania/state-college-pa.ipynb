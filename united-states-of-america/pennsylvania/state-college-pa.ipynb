{
 "cells": [
  {
   "cell_type": "markdown",
   "metadata": {},
   "source": [
    "##  Latitude and Longitude\n",
    "\n",
    "40.7934� N, 77.8600� W"
   ]
  },
  {
   "cell_type": "markdown",
   "metadata": {},
   "source": [
    "## Population\n",
    "\n",
    "<a href=\"http://worldpopulationreview.com/us-cities/state-college-pa-population/\" target=\"_blank\">42,352</a>"
   ]
  },
  {
   "cell_type": "markdown",
   "metadata": {},
   "source": [
    "## Nittany Lion Shrine\n",
    "\n",
    "![Nittany Lion Shrine](https://upload.wikimedia.org/wikipedia/commons/thumb/0/01/Nittany_Lion_Shrine_%282%29.JPG/413px-Nittany_Lion_Shrine_%282%29.JPG)"
   ]
  },
  {
   "cell_type": "code",
   "execution_count": null,
   "metadata": {},
   "outputs": [],
   "source": []
  }
 ],
 "metadata": {
  "kernelspec": {
   "display_name": "Python 3",
   "language": "python",
   "name": "python3"
  },
  "language_info": {
   "codemirror_mode": {
    "name": "ipython",
    "version": 3
   },
   "file_extension": ".py",
   "mimetype": "text/x-python",
   "name": "python",
   "nbconvert_exporter": "python",
   "pygments_lexer": "ipython3",
   "version": "3.7.3"
  }
 },
 "nbformat": 4,
 "nbformat_minor": 2
}
