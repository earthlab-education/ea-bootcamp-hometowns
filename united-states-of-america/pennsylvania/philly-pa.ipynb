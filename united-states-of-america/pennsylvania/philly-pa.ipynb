{
 "cells": [
  {
   "cell_type": "markdown",
   "metadata": {},
   "source": [
    "Tim Dittmann GEOG 5463\n",
    "10/24/19\n",
    "\n",
    "# earthlab Hw8 assignment:\n",
    "\n",
    "* add a subtitle (header) and the information for the latitude and longitude of the main area of the town/city\n",
    "* add a subtitle (header) and the information for the most recent population figure you can find, plus a hyperlink to the source for this information\n",
    "* add a subtitle (header) for a local landmark, plus an image and short text description of this landmark"
   ]
  },
  {
   "cell_type": "markdown",
   "metadata": {},
   "source": [
    "## Philadelphia  \n",
    "lat: 39.952778\n",
    "lon: -75.163611\n",
    "\n",
    "## Population:  1,584,138 \n",
    "[2018 U.S. Census](https://www.census.gov/quickfacts/philadelphiacountypennsylvania)\n",
    "\n",
    "## The Liberty Bell \n",
    "<img src=\"https://www.nps.gov/inde/images/Liberty-Bell-no-Yoke-960-X-480_1.jpg?maxwidth=1200&maxheight=1200&autorotate=false\" alt=\"liberty\" title=\"liberty bell\" />\n",
    "The Liberty Bell is a symbol of American independence that was rung on the reading of the Declaration of Independence in 1776."
   ]
  },
  {
   "cell_type": "code",
   "execution_count": null,
   "metadata": {},
   "outputs": [],
   "source": []
  }
 ],
 "metadata": {
  "kernelspec": {
   "display_name": "Python 3",
   "language": "python",
   "name": "python3"
  },
  "language_info": {
   "codemirror_mode": {
    "name": "ipython",
    "version": 3
   },
   "file_extension": ".py",
   "mimetype": "text/x-python",
   "name": "python",
   "nbconvert_exporter": "python",
   "pygments_lexer": "ipython3",
   "version": "3.7.3"
  }
 },
 "nbformat": 4,
 "nbformat_minor": 2
}
