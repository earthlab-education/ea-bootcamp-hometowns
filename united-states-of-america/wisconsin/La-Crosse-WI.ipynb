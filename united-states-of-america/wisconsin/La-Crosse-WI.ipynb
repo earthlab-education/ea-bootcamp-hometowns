{
 "cells": [
  {
   "cell_type": "markdown",
   "metadata": {},
   "source": [
    "## The Latitude/Longitude of La Crosse, Wisconsin is: 43.812379, -91.251941\n",
    "\n",
    "### The estimated 2019 population of La Crosse, Wisconsin is <a href=\"http://worldpopulationreview.com/us-cities/la-crosse-wi-population/\" target=\"_blank\">51,567</a>\n",
    "#### Here is a photo of Grandad Bluff, Wisconsin's single largest rock outcrop looming over the city at the top of Main Street.\n",
    "![alt text here](https://encrypted-tbn0.gstatic.com/images?q=tbn:ANd9GcRjiQ-bD3ophVG_AVsPBTDoRAwJ9X6Abc_bocwT9AseODNWm5gUKg&s)"
   ]
  },
  {
   "cell_type": "markdown",
   "metadata": {},
   "source": [
    "This is Assignment 8 - Hometowns, submitted by Richard Udell."
   ]
  },
  {
   "cell_type": "code",
   "execution_count": null,
   "metadata": {},
   "outputs": [],
   "source": []
  }
 ],
 "metadata": {
  "kernelspec": {
   "display_name": "Python 3",
   "language": "python",
   "name": "python3"
  },
  "language_info": {
   "codemirror_mode": {
    "name": "ipython",
    "version": 3
   },
   "file_extension": ".py",
   "mimetype": "text/x-python",
   "name": "python",
   "nbconvert_exporter": "python",
   "pygments_lexer": "ipython3",
   "version": "3.7.3"
  }
 },
 "nbformat": 4,
 "nbformat_minor": 2
}
