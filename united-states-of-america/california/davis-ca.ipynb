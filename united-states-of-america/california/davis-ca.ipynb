{
 "cells": [
  {
   "cell_type": "markdown",
   "metadata": {},
   "source": [
    "### Latitude and Longitude \n",
    "38.5449° N, 121.7405° W"
   ]
  },
  {
   "cell_type": "markdown",
   "metadata": {},
   "source": [
    "### 2018 population estimate\n",
    "[69,289](https://en.wikipedia.org/wiki/Davis,_California \"Wikipedia\")"
   ]
  },
  {
   "cell_type": "markdown",
   "metadata": {},
   "source": [
    "### Davis train station\n",
    "![DavisTrainStation](http://www.phildynan.com/images/Davis-TrainStationBikes.jpg)\n",
    "![DavisTrainStation](https://render.fineartamerica.com/images/rendered/default/metal-print/10.000/7.250/break/images/artworkimages/medium/1/the-davis-train-station-matt-connors.jpg)\n",
    "The original train station was built in 1868 and the current building was constructed in 1913. The station is on the Union Pacific Railroad and is a historic landmark."
   ]
  }
 ],
 "metadata": {
  "kernelspec": {
   "display_name": "Python 3",
   "language": "python",
   "name": "python3"
  },
  "language_info": {
   "codemirror_mode": {
    "name": "ipython",
    "version": 3
   },
   "file_extension": ".py",
   "mimetype": "text/x-python",
   "name": "python",
   "nbconvert_exporter": "python",
   "pygments_lexer": "ipython3",
   "version": "3.7.3"
  }
 },
 "nbformat": 4,
 "nbformat_minor": 2
}
