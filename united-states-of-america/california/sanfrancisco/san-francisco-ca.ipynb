{
 "cells": [
  {
   "cell_type": "markdown",
   "id": "f7234c8e",
   "metadata": {},
   "source": [
    "## San Francisco, CA \n",
    "#### Location: 37.7749° N, 122.4194° W\n",
    "#### Population:  <a href=\"https://worldpopulationreview.com/us-cities/san-francisco-ca-population\" target=\"_blank\">883,255</a>\n",
    "#### Landmark: ![Golden Gate Bridge](https://www.nps.gov/prsf/planyourvisit/images/ggb.jpg)"
   ]
  }
 ],
 "metadata": {
  "kernelspec": {
   "display_name": "Python 3",
   "language": "python",
   "name": "python3"
  },
  "language_info": {
   "codemirror_mode": {
    "name": "ipython",
    "version": 3
   },
   "file_extension": ".py",
   "mimetype": "text/x-python",
   "name": "python",
   "nbconvert_exporter": "python",
   "pygments_lexer": "ipython3",
   "version": "3.8.10"
  }
 },
 "nbformat": 4,
 "nbformat_minor": 5
}
