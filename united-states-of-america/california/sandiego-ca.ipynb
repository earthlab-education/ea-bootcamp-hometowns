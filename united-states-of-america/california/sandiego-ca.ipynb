{
 "cells": [
  {
   "cell_type": "markdown",
   "metadata": {},
   "source": [
    "# Tasks assigned.\n",
    "*  add a subtitle (header) and the information for the latitude and longitude of the main area of the town/city.\n",
    "* add a subtitle (header) and the information for the most recent population figure you can find, plus a hyperlink to the source for this information.\n",
    "* add a subtitle (header) for a local landmark, plus an image and short text description of this landmark."
   ]
  },
  {
   "cell_type": "markdown",
   "metadata": {},
   "source": [
    "# America's finest city (San Diego, CA) on the West coast of the United States.\n",
    "** The notebook below describes some facts about my city \n",
    "1. geographical location (lat/lon), \n",
    "2. population and \n",
    "3. few landmarks "
   ]
  },
  {
   "cell_type": "markdown",
   "metadata": {},
   "source": [
    "## Lat/Long of San Diego, CA.\n",
    "\n",
    "32.715736, -117.161087\n",
    "\n",
    "and/or\n",
    "\n",
    "DMS long = 32° 42' 56.6496'' N\n",
    "\n",
    "DMS lat = 117° 9' 39.9132'' W\n",
    "\n",
    " \"\"\" More accurate navigation system Geo Positioning system (gps) can be assessed with any mobile device. \n",
    "which includes degree, minute, seconds and orientaion from 0,0 meridians\"\"\"\n",
    "\n"
   ]
  },
  {
   "cell_type": "markdown",
   "metadata": {},
   "source": [
    "## Population (2018)\n",
    "\n",
    "* San Diego has a milder climate and a famous toruist destination.\n",
    "* Its population is increasing exponentially, according to the world population review.\n",
    "\n",
    "<a href=\"http://worldpopulationreview.com/us-cities/san-diego-population/\">1,425,976</a>"
   ]
  },
  {
   "cell_type": "markdown",
   "metadata": {},
   "source": [
    "# Famous Landmarks\n",
    "\n",
    "## San Diego Air and Space Museum\n",
    "\n",
    "\"\"\"\n",
    "San Diego air and space museum is an affiliate of the Smithsonian Institution.\n",
    "\n",
    "It houses a collection of historic air and s from all over the world, \n",
    "1. A flight-worthy replica of Charles Lindbergh’s “Spirit of St. Louis,” \n",
    "2. The actual Apollo 9 Command Module, \n",
    "3. The only real GPS satellite on display in the world. \n",
    "4. Artifacts from the Wright Brothers, Charles Lindbergh, Amelia Earhart,  \n",
    "Neil Armstrong, Buzz Aldrin, Wally Schirra and other aviation and space pioneers!\n",
    "\"\"\"\n",
    "\n",
    "![San Diego air space museum](http://sandiegoairandspace.org/img/featured/special_event_inside_1.png)"
   ]
  },
  {
   "cell_type": "markdown",
   "metadata": {},
   "source": [
    "## San Diego Sea World\n",
    "\"\"\" Fun Facts: \n",
    "\n",
    "1. Biggest seaworld location (190 acres) in the world spread across the Mission Bay Park.\n",
    "2. Includes animal theme park, oceanarium, outside aquarium and marine mammal park.\n",
    "3. Offers rides, close interactions with dolphons, penguins and sharks.\n",
    "4. Awe inspiring shows with magnficant killer whales. \n",
    "\"\"\"\n",
    "\n",
    "![San Diego sea world](https://seaworld.scdn3.secure.raxcdn.com/san-diego/-/media/seaworld-san-diego/images/animals/dolphins/banners/dolphin_encounter_1900x700.ashx?version=1_201707210008) "
   ]
  },
  {
   "cell_type": "code",
   "execution_count": null,
   "metadata": {},
   "outputs": [],
   "source": []
  }
 ],
 "metadata": {
  "kernelspec": {
   "display_name": "Python 3",
   "language": "python",
   "name": "python3"
  },
  "language_info": {
   "codemirror_mode": {
    "name": "ipython",
    "version": 3
   },
   "file_extension": ".py",
   "mimetype": "text/x-python",
   "name": "python",
   "nbconvert_exporter": "python",
   "pygments_lexer": "ipython3",
   "version": "3.7.3"
  }
 },
 "nbformat": 4,
 "nbformat_minor": 2
}
