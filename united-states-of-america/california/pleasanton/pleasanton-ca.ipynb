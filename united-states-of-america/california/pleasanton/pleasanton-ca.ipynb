{
 "cells": [
  {
   "cell_type": "markdown",
   "id": "0521ea71",
   "metadata": {},
   "source": [
    "# Pleasanton, California\n",
    "\n",
    "37.6570408\" N, 121.8783312\" W"
   ]
  },
  {
   "cell_type": "markdown",
   "id": "89c986be",
   "metadata": {},
   "source": [
    "### Population : : 79871\n",
    "Source: https://en.wikipedia.org/wiki/Pleasanton%2C_California\n",
    "\n",
    "![Downtown Sign](https://upload.wikimedia.org/wikipedia/commons/thumb/7/7f/Downtown_Pleasanton%2C_California.jpg/268px-Downtown_Pleasanton%2C_California.jpg \"Pleasanton, CA Downtown Sign\")\n"
   ]
  },
  {
   "cell_type": "code",
   "execution_count": null,
   "id": "dd3ae7ab",
   "metadata": {},
   "outputs": [],
   "source": []
  }
 ],
 "metadata": {
  "kernelspec": {
   "display_name": "Python 3 (ipykernel)",
   "language": "python",
   "name": "python3"
  },
  "language_info": {
   "codemirror_mode": {
    "name": "ipython",
    "version": 3
   },
   "file_extension": ".py",
   "mimetype": "text/x-python",
   "name": "python",
   "nbconvert_exporter": "python",
   "pygments_lexer": "ipython3",
   "version": "3.8.17"
  }
 },
 "nbformat": 4,
 "nbformat_minor": 5
}
