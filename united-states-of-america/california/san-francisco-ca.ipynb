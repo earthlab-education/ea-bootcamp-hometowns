{
 "cells": [
  {
   "cell_type": "markdown",
   "metadata": {},
   "source": [
    "##  Lat/Long\n",
    "\n",
    "37°47′N 122°25′W"
   ]
  },
  {
   "cell_type": "markdown",
   "metadata": {},
   "source": [
    "## Population\n",
    "\n",
    "<a href=\"https://en.wikipedia.org/wiki/San_Francisco\" target=\"_blank\">883,305</a>"
   ]
  },
  {
   "cell_type": "markdown",
   "metadata": {},
   "source": [
    "## Karl the Fog\n",
    "\n",
    "![karl the fog](https://s.hdnux.com/photos/76/50/67/16420330/6/920x920.jpg)\n",
    "\n",
    "An iconic fluid landmark to San Francisco is the fog - not permanent but definitely consistent. The beloved (and sometimes hated) feature is called Karl by the locals. Karl even has a [twitter acount](https://twitter.com/karlthefog?lang=en) with 365K followers. "
   ]
  },
  {
   "cell_type": "code",
   "execution_count": null,
   "metadata": {},
   "outputs": [],
   "source": []
  }
 ],
 "metadata": {
  "kernelspec": {
   "display_name": "Python [default]",
   "language": "python",
   "name": "python3"
  },
  "language_info": {
   "codemirror_mode": {
    "name": "ipython",
    "version": 3
   },
   "file_extension": ".py",
   "mimetype": "text/x-python",
   "name": "python",
   "nbconvert_exporter": "python",
   "pygments_lexer": "ipython3",
   "version": "3.6.5"
  }
 },
 "nbformat": 4,
 "nbformat_minor": 2
}
