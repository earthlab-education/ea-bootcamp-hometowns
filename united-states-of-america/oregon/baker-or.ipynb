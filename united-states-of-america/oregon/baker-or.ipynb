{
 "cells": [
  {
   "cell_type": "markdown",
   "metadata": {},
   "source": [
    "# Random Details of Baker City, Oregon"
   ]
  },
  {
   "cell_type": "markdown",
   "metadata": {},
   "source": [
    "## Lat/Long\n",
    "44.7749° N, 117.8344° W"
   ]
  },
  {
   "cell_type": "markdown",
   "metadata": {},
   "source": [
    "## Population\n",
    "9,828 people \n",
    "\n",
    "[Source with Stats](https://en.wikipedia.org/wiki/Baker_City,_Oregon)"
   ]
  },
  {
   "cell_type": "markdown",
   "metadata": {},
   "source": [
    "## Local Landmark\n",
    "Chinese Cemetery\n",
    "\n",
    "![Chinese Cemetery and Monument](https://media-cdn.tripadvisor.com/media/photo-w/0f/12/18/5a/a-view-of-the-mountains.jpg)\n",
    "\n",
    "This poignant landmark represents the Chinese community that once existed in Baker City, Oregon.  The landmark is accompanied by a sign with more details.  The new sign lists Sam Fong, Wing Fong, Yin Chin Hule, Ching Hung, Chung Lee, Hong Loy Lee, Kow Lee, Sun Lung, Hep Fong Wong, Kern Wong, King Wong, Poy You Wong, Tai Wong, Wing Wong, Yen Wong, Toy Koy Young, “and 50 others for whom no names or records are available.”  Of the approximately 46 people originally buried in the cemetery, one marked grave remains in the cemetery, that of Lee Chue, 1882-1938.  Some years after interment, most of the other remains were exhumed and transported to China by previous arrangement with the Chinese Consolidated Benevolent Association of Portland, Oregon. \n"
   ]
  }
 ],
 "metadata": {
  "kernelspec": {
   "display_name": "Python 3",
   "language": "python",
   "name": "python3"
  },
  "language_info": {
   "codemirror_mode": {
    "name": "ipython",
    "version": 3
   },
   "file_extension": ".py",
   "mimetype": "text/x-python",
   "name": "python",
   "nbconvert_exporter": "python",
   "pygments_lexer": "ipython3",
   "version": "3.7.3"
  }
 },
 "nbformat": 4,
 "nbformat_minor": 2
}
