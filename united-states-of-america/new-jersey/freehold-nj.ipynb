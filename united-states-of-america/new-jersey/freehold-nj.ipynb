{
 "cells": [
  {
   "cell_type": "markdown",
   "metadata": {},
   "source": [
    "## Latitude and Longitude of Freehold, New Jersey ##\n",
    "\n",
    "### 40.2599487, -74.2942691 ##"
   ]
  },
  {
   "cell_type": "markdown",
   "metadata": {},
   "source": [
    "##  Population Census ##\n",
    "\n",
    "[13,613 people in the Borough of Freehold, NJ](https://www.census.gov/quickfacts/westfreeholdcdpnewjersey)\n"
   ]
  },
  {
   "cell_type": "markdown",
   "metadata": {},
   "source": [
    "## Freehold Raceway ##\n",
    "<img src=\"http://uskings.us/Userfiles/Upload/images/Racetrack1.JPG\" alt=\"Freehold Raceway\" title=\"Freehold Raceway\" />\n",
    "\n",
    "**Freehold Raceway is the oldest racetrack in the United States for harnessed horses, established 1854.  It is located on the outskirts of Freehold Borough, which is where I went to high school.  The raceway is across from the Battleground State Park, where a revolutionary war battle was fought.  I loved to mountain bike in the park, pick apples in the orchards and fish on the horse farm ponds surrounding the raceway, and then get a burger and big ice cream sundae at Jersey Freeze, across from the track.  My husband, once picked up a loose license plate in the in Jersey Freeze parking lot, bet on that number horse and won big!  The raceway and surrounding area has many fond memories for us.**"
   ]
  },
  {
   "cell_type": "code",
   "execution_count": null,
   "metadata": {},
   "outputs": [],
   "source": []
  }
 ],
 "metadata": {
  "kernelspec": {
   "display_name": "Python 3",
   "language": "python",
   "name": "python3"
  },
  "language_info": {
   "codemirror_mode": {
    "name": "ipython",
    "version": 3
   },
   "file_extension": ".py",
   "mimetype": "text/x-python",
   "name": "python",
   "nbconvert_exporter": "python",
   "pygments_lexer": "ipython3",
   "version": "3.7.3"
  }
 },
 "nbformat": 4,
 "nbformat_minor": 2
}
