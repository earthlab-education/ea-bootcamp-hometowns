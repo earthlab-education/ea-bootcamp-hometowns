{
 "cells": [
  {
   "cell_type": "markdown",
   "metadata": {},
   "source": [
    "## Lat/Long\n",
    "40.3451° N, 74.1840° W\n",
    "\n"
   ]
  },
  {
   "cell_type": "markdown",
   "metadata": {},
   "source": [
    "## Population\n",
    "<a href=\"https://www.bestplaces.net/people/zip-code/new_jersey/holmdel/07733\" target=\"_blank\">16,640 </a>"
   ]
  },
  {
   "cell_type": "markdown",
   "metadata": {},
   "source": [
    "## Bell Labs\n",
    "![Bell Labs](https://28nwgk2wx3p52fe6o9419sg5-wpengine.netdna-ssl.com/wp-content/uploads/2018/05/Bell-Works-Holmdel-New-Jersey-exterior.jpg)\n",
    "<br>\n",
    "The Bell Labs Holmdel Complex, in Holmdel Township, New Jersey, functioned for forty-four years as a research and development facility, and is now in the process of being remodeled to include a health and wellness center, an assisted living center, a hotel, restaurants and shopping, spa, office spaces and a 20,000-square-foot public library."
   ]
  },
  {
   "cell_type": "code",
   "execution_count": null,
   "metadata": {},
   "outputs": [],
   "source": []
  }
 ],
 "metadata": {
  "kernelspec": {
   "display_name": "Python 3",
   "language": "python",
   "name": "python3"
  },
  "language_info": {
   "codemirror_mode": {
    "name": "ipython",
    "version": 3
   },
   "file_extension": ".py",
   "mimetype": "text/x-python",
   "name": "python",
   "nbconvert_exporter": "python",
   "pygments_lexer": "ipython3",
   "version": "3.7.3"
  }
 },
 "nbformat": 4,
 "nbformat_minor": 2
}
