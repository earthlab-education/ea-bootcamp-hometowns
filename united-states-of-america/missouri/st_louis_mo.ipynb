{
 "cells": [
  {
   "cell_type": "markdown",
   "metadata": {},
   "source": [
    "* add a subtitle (header) and the information for the latitude and longitude of the main area of the town/city\n",
    "* add a subtitle (header) and the information for the most recent population figure you can find, plus a hyperlink to * the source for this information\n",
    "* add a subtitle (header) for a local landmark, plus an image and short text description of this landmark"
   ]
  },
  {
   "cell_type": "markdown",
   "metadata": {},
   "source": [
    "## Lat/Long\n",
    "38.6270° N, 90.1994° W"
   ]
  },
  {
   "cell_type": "markdown",
   "metadata": {},
   "source": [
    "## Population\n",
    "[302,838](http://worldpopulationreview.com/us-cities/st-louis-population/)"
   ]
  },
  {
   "cell_type": "markdown",
   "metadata": {},
   "source": [
    "## Local Landmark: The Gateway Arch\n",
    "![Gateway Arch](https://media.wnyc.org/i/800/0/c/85/1/shutterstock_270828248.jpg)\n",
    "\n",
    "The Gateway Arch is the first thing you see crossing the Mississippi River from Illinois into Saint Louis. It is a symbol of westward expansion, a movement started by Lewis and Clark in 1804."
   ]
  },
  {
   "cell_type": "code",
   "execution_count": null,
   "metadata": {},
   "outputs": [],
   "source": []
  }
 ],
 "metadata": {
  "kernelspec": {
   "display_name": "Python 3",
   "language": "python",
   "name": "python3"
  },
  "language_info": {
   "codemirror_mode": {
    "name": "ipython",
    "version": 3
   },
   "file_extension": ".py",
   "mimetype": "text/x-python",
   "name": "python",
   "nbconvert_exporter": "python",
   "pygments_lexer": "ipython3",
   "version": "3.7.3"
  }
 },
 "nbformat": 4,
 "nbformat_minor": 2
}
