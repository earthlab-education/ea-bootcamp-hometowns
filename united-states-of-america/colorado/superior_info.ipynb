{
 "cells": [
  {
   "cell_type": "markdown",
   "metadata": {},
   "source": [
    "# **Superior, CO**\n",
    "\n",
    "## Hometown of Evan Gallagher\n",
    "\n",
    "### Location (Lat/Long)\n",
    "`39.933304, 105.161454`\n",
    "\n",
    "### Population\n",
    "[13,189](https://www.superiorcolorado.gov/about-us/demographics)\n",
    "\n",
    "### Town of Superior Community park \n",
    "![Williams Field](https://www.academysportsturf.com/wp-content/uploads/2017/07/SUPERIOR_1.jpg)"
   ]
  },
  {
   "cell_type": "code",
   "execution_count": null,
   "metadata": {},
   "outputs": [],
   "source": []
  }
 ],
 "metadata": {
  "kernelspec": {
   "display_name": "Python 3",
   "language": "python",
   "name": "python3"
  },
  "language_info": {
   "codemirror_mode": {
    "name": "ipython",
    "version": 3
   },
   "file_extension": ".py",
   "mimetype": "text/x-python",
   "name": "python",
   "nbconvert_exporter": "python",
   "pygments_lexer": "ipython3",
   "version": "3.7.3"
  }
 },
 "nbformat": 4,
 "nbformat_minor": 2
}
