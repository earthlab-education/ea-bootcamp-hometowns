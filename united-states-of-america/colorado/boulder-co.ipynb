{
 "cells": [
  {
   "cell_type": "markdown",
   "metadata": {},
   "source": [
    " # Boulder, Colorado\n",
    " \n",
    " * Latitude: 40.0150° N\n",
    " * Longitude: 105.2705° W"
   ]
  },
  {
   "cell_type": "markdown",
   "metadata": {},
   "source": [
    "### Population: 107,353 (2018)"
   ]
  },
  {
   "cell_type": "markdown",
   "metadata": {},
   "source": [
    "### Landmark: \n",
    "\n",
    "\n",
    "The Flatirons are rock formations in the western United States, near Boulder, Colorado, consisting of flatirons. There are five large, numbered Flatirons ranging from north to south along the east slope of Green Mountain, and the term \"The Flatirons\" sometimes refers to these five alone. [Wikipedia](https://en.wikipedia.org/wiki/Flatirons)\n",
    "\n",
    "![](https://upload.wikimedia.org/wikipedia/commons/8/80/Flatirons_Winter_Sunrise_edit_2.jpg \"Flatirons\")"
   ]
  },
  {
   "cell_type": "code",
   "execution_count": null,
   "metadata": {},
   "outputs": [],
   "source": []
  }
 ],
 "metadata": {
  "kernelspec": {
   "display_name": "Python 3",
   "language": "python",
   "name": "python3"
  },
  "language_info": {
   "codemirror_mode": {
    "name": "ipython",
    "version": 3
   },
   "file_extension": ".py",
   "mimetype": "text/x-python",
   "name": "python",
   "nbconvert_exporter": "python",
   "pygments_lexer": "ipython3",
   "version": "3.7.6"
  }
 },
 "nbformat": 4,
 "nbformat_minor": 2
}
