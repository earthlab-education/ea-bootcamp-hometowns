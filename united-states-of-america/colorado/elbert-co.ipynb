{
 "cells": [
  {
   "cell_type": "markdown",
   "metadata": {},
   "source": [
    "### Latitude & Longitude\n",
    "39°13'10.9\"N 104°32'13.8\"W"
   ]
  },
  {
   "cell_type": "markdown",
   "metadata": {},
   "source": [
    "### Population\n",
    "<a href=\"http://worldpopulationreview.com/us-cities/elbert-co-population/\" target=\"_blank\">154</a>"
   ]
  },
  {
   "cell_type": "markdown",
   "metadata": {},
   "source": [
    "### Russell Gates Mercantile Co Building\n",
    "\n",
    "![Russell Gates Mercantile Building](https://www.historycolorado.org/sites/default/files/media/images/2019/17-02-014-5el333.jpg)\n",
    "\n",
    "Not quite designated a historic landmark but long preserved and protected by the Elbert Women's Club. Built in <a href=\"http://www.elbert-town-committee.com/history.html\" target=\"_blank\">1906</a>, this is the only longstanding community building even approaching anything recreational for 20 odd miles."
   ]
  },
  {
   "cell_type": "code",
   "execution_count": null,
   "metadata": {},
   "outputs": [],
   "source": []
  }
 ],
 "metadata": {
  "kernelspec": {
   "display_name": "Python 3",
   "language": "python",
   "name": "python3"
  },
  "language_info": {
   "codemirror_mode": {
    "name": "ipython",
    "version": 3
   },
   "file_extension": ".py",
   "mimetype": "text/x-python",
   "name": "python",
   "nbconvert_exporter": "python",
   "pygments_lexer": "ipython3",
   "version": "3.7.3"
  }
 },
 "nbformat": 4,
 "nbformat_minor": 2
}
