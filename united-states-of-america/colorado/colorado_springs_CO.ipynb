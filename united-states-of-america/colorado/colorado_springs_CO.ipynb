{
 "cells": [
  {
   "cell_type": "markdown",
   "metadata": {},
   "source": [
    "## Latitude and Longitude of Colorado Springs\n",
    "\n",
    "38.8339° N, 104.8214° W"
   ]
  },
  {
   "cell_type": "markdown",
   "metadata": {},
   "source": [
    "## Population of Colorado Springs\n",
    "465,101 \n",
    "<a href = \"https://en.m.wikipedia.org/wiki/Colorado_Springs,_Colorado\"> 465,101 </a>"
   ]
  },
  {
   "cell_type": "markdown",
   "metadata": {},
   "source": [
    "## Garden of the Gods\n",
    "![Garden of the Gods](https://i.redd.it/oepxcn8ojw521.jpg)\n",
    "\n",
    "<p>\n",
    "    The area now known as Garden of the Gods was first called Red Rock Corral by the Europeans.[2] Then, in August 1859, two surveyors who helped to set up Colorado City explored the site. One of the surveyors, M. S. Beach, suggested that it would be a \"capital place for a beer garden\". His companion, the young Rufus Cable, awestruck by the impressive rock formations, exclaimed, \"Beer Garden! Why, it is a fit place for the Gods to assemble. We will call it the Garden of the Gods.\"[3]\n",
    "The name \"Garden of the Gods\" was also later given to a section of the Iverson Movie Ranch in Chatsworth, Calif., filled with large sandstone rock formations, because of the area's resemblance to Colorado's Garden of the Gods. The story goes that back in the early days of Hollywood, a movie producer seeking a rocky filming location made a comment to the effect of, \"Who needs to go all the way to Colorado -- we have our own 'Garden of the Gods' here!\" The Iverson family took the comment to heart and began calling their own collection of rock formations the \"Garden of the Gods,\" and the name stuck. Today the main section of Chatsworth's Garden of the Gods has also been preserved as a park.</p>"
   ]
  },
  {
   "cell_type": "code",
   "execution_count": null,
   "metadata": {},
   "outputs": [],
   "source": []
  }
 ],
 "metadata": {
  "kernelspec": {
   "display_name": "Python 3",
   "language": "python",
   "name": "python3"
  },
  "language_info": {
   "codemirror_mode": {
    "name": "ipython",
    "version": 3
   },
   "file_extension": ".py",
   "mimetype": "text/x-python",
   "name": "python",
   "nbconvert_exporter": "python",
   "pygments_lexer": "ipython3",
   "version": "3.7.3"
  }
 },
 "nbformat": 4,
 "nbformat_minor": 2
}
