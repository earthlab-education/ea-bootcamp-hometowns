{
 "cells": [
  {
   "cell_type": "markdown",
   "metadata": {},
   "source": [
    "**Cale Kochenour** \\\n",
    "GEOG 5463 Fall 2019 \\\n",
    "GitHub for Collaboration"
   ]
  },
  {
   "cell_type": "markdown",
   "metadata": {},
   "source": [
    "# Manchester, Vermont"
   ]
  },
  {
   "cell_type": "markdown",
   "metadata": {},
   "source": [
    "## Location\n",
    "Manchester is located in Southern Vermont, in the heart of <a href=\"http://www.bcrcvt.org/\" target=\"_blank\">Bennington County</a>.\n",
    "\n",
    "The coordinates of the geometric centroid for the town boundary are:\n",
    "\n",
    "* Latitude:  43° 09' 43.66'' N\n",
    "* Longitude: 73° 04' 19.61'' W"
   ]
  },
  {
   "cell_type": "markdown",
   "metadata": {},
   "source": [
    "## Population\n",
    "\n",
    "Per the town <a href=\"https://manchester-vt.gov/skatepark-rfp/\" target=\"_blank\">Skatepark RFP</a>, announced on May 7, 2018, the population of Manchester was 4,391. Note that the Town of Manchester consists of Manchester (town), Manchester Village (incorporated village), and Manchester Center (census-designated place)."
   ]
  },
  {
   "cell_type": "markdown",
   "metadata": {},
   "source": [
    "## Landmark \n",
    "\n",
    "Equinox Mountain, the highest mountain in the Taconic Range, sits at 3,840 feet elevation. This mountain is easily accessible from the town and the surrounding area, and is one of many outdoor activities available in Southern Vermont. This views looks East, showing Manchester in the valley and Stratton Mountain along the horizon, in August 2017. This is a picture I took from Lookout Rock after a hike up the Blue Summit Trail to the top of Equinox.\n",
    "\n",
    "![View atop Equinox Mountain in August 2017, overlooking the town of Manchester, VT](manchester-vermont-august-2017.jpg)"
   ]
  }
 ],
 "metadata": {
  "kernelspec": {
   "display_name": "Python 3",
   "language": "python",
   "name": "python3"
  },
  "language_info": {
   "codemirror_mode": {
    "name": "ipython",
    "version": 3
   },
   "file_extension": ".py",
   "mimetype": "text/x-python",
   "name": "python",
   "nbconvert_exporter": "python",
   "pygments_lexer": "ipython3",
   "version": "3.7.3"
  }
 },
 "nbformat": 4,
 "nbformat_minor": 2
}
