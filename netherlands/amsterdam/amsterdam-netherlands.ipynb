{
 "cells": [
  {
   "cell_type": "markdown",
   "id": "07667d55",
   "metadata": {},
   "source": [
    "## Location\n",
    "52.3676° N\n",
    "4.9041° E\n",
    "\n",
    "## Population\n",
    "0.9 million \n",
    "gemeenteamsterdam.nl\n",
    "\n",
    "## Landmark\n",
    "![image-IAMSTERDAM](https://unsplash.com/photos/3vQXi_i0P4w.png)\n",
    "\n"
   ]
  },
  {
   "cell_type": "code",
   "execution_count": null,
   "id": "3bbdb29c",
   "metadata": {},
   "outputs": [],
   "source": []
  }
 ],
 "metadata": {
  "kernelspec": {
   "display_name": "Python 3",
   "language": "python",
   "name": "python3"
  },
  "language_info": {
   "codemirror_mode": {
    "name": "ipython",
    "version": 3
   },
   "file_extension": ".py",
   "mimetype": "text/x-python",
   "name": "python",
   "nbconvert_exporter": "python",
   "pygments_lexer": "ipython3",
   "version": "3.8.8"
  }
 },
 "nbformat": 4,
 "nbformat_minor": 5
}
