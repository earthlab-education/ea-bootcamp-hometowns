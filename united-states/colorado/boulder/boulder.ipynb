{
 "cells": [
  {
   "cell_type": "code",
   "execution_count": 3,
   "id": "1098f1d3",
   "metadata": {},
   "outputs": [
    {
     "name": "stdout",
     "output_type": "stream",
     "text": [
      "boulder\n",
      "dillon\n",
      "evergreen\n",
      "montrose\n",
      "wheat_ridge\n"
     ]
    }
   ],
   "source": [
    "%%bash \n",
    "ls .. "
   ]
  },
  {
   "cell_type": "markdown",
   "id": "279f3088",
   "metadata": {},
   "source": [
    "## Location \n",
    "40.0150° N, 105.2705° W\n",
    "## Population\n",
    "156,605 according to the [US census](https://www.census.gov/quickfacts/fact/table/bouldercountycolorado,lakewoodcitycolorado/PST045221s) \n",
    "## Landmark\n",
    "![The flatirons](https://images.squarespace-cdn.com/content/v1/5373ca62e4b0875c414542a1/1405111543624-681EMTDC5LLPE19MEUXH/image-asset.jpeg?format=1000w)\n",
    "Boulder is near the flatirons"
   ]
  },
  {
   "cell_type": "code",
   "execution_count": null,
   "id": "e6ccf30d",
   "metadata": {},
   "outputs": [],
   "source": []
  }
 ],
 "metadata": {
  "kernelspec": {
   "display_name": "Python 3 (ipykernel)",
   "language": "python",
   "name": "python3"
  },
  "language_info": {
   "codemirror_mode": {
    "name": "ipython",
    "version": 3
   },
   "file_extension": ".py",
   "mimetype": "text/x-python",
   "name": "python",
   "nbconvert_exporter": "python",
   "pygments_lexer": "ipython3",
   "version": "3.8.13"
  },
  "varInspector": {
   "cols": {
    "lenName": 16,
    "lenType": 16,
    "lenVar": 40
   },
   "kernels_config": {
    "python": {
     "delete_cmd_postfix": "",
     "delete_cmd_prefix": "del ",
     "library": "var_list.py",
     "varRefreshCmd": "print(var_dic_list())"
    },
    "r": {
     "delete_cmd_postfix": ") ",
     "delete_cmd_prefix": "rm(",
     "library": "var_list.r",
     "varRefreshCmd": "cat(var_dic_list()) "
    }
   },
   "types_to_exclude": [
    "module",
    "function",
    "builtin_function_or_method",
    "instance",
    "_Feature"
   ],
   "window_display": false
  }
 },
 "nbformat": 4,
 "nbformat_minor": 5
}
