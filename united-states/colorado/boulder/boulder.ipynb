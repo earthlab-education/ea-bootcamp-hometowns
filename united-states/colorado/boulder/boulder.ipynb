{
 "cells": [
  {
   "cell_type": "markdown",
   "id": "f7c997b7",
   "metadata": {},
   "source": [
    "# Location\n",
    "40.0150° N, 105.2705° W\n",
    "\n",
    "# Population \n",
    "329,543 according to [the US Census](https://www.census.gov/quickfacts/bouldercountycolorado)\n",
    "\n",
    "\n",
    "# Landmark\n",
    "Boulder is near the Flatirons.\n",
    "\n",
    "![The Flatiron formation](https://upload.wikimedia.org/wikipedia/commons/thumb/8/80/Flatirons_Winter_Sunrise_edit_2.jpg/1920px-Flatirons_Winter_Sunrise_edit_2.jpg)"
   ]
  }
 ],
 "metadata": {
  "kernelspec": {
   "display_name": "Python 3 (ipykernel)",
   "language": "python",
   "name": "python3"
  },
  "language_info": {
   "codemirror_mode": {
    "name": "ipython",
    "version": 3
   },
   "file_extension": ".py",
   "mimetype": "text/x-python",
   "name": "python",
   "nbconvert_exporter": "python",
   "pygments_lexer": "ipython3",
   "version": "3.8.12"
  },
  "varInspector": {
   "cols": {
    "lenName": 16,
    "lenType": 16,
    "lenVar": 40
   },
   "kernels_config": {
    "python": {
     "delete_cmd_postfix": "",
     "delete_cmd_prefix": "del ",
     "library": "var_list.py",
     "varRefreshCmd": "print(var_dic_list())"
    },
    "r": {
     "delete_cmd_postfix": ") ",
     "delete_cmd_prefix": "rm(",
     "library": "var_list.r",
     "varRefreshCmd": "cat(var_dic_list()) "
    }
   },
   "types_to_exclude": [
    "module",
    "function",
    "builtin_function_or_method",
    "instance",
    "_Feature"
   ],
   "window_display": false
  }
 },
 "nbformat": 4,
 "nbformat_minor": 5
}
