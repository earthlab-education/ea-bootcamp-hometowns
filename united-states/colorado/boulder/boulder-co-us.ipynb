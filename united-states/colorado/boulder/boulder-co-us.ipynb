{
 "cells": [
  {
   "cell_type": "markdown",
   "id": "225d3743",
   "metadata": {},
   "source": [
    "# Location \n",
    "40.0150° N, 105.2705° W\n",
    "\n",
    "# Population \n",
    "329,543 ([US Census Bureau 2022](https://www.census.gov/quickfacts/bouldercountycolorado))\n",
    "\n",
    "# Landmark \n",
    "The Continental Divide is the principal, and largely mountainous, hydrological divide of the Americas. \n",
    "![Continental Divide](https://upload.wikimedia.org/wikipedia/commons/4/43/Grays_Peak%2C_Colorado_-_2007-06-17.jpg)"
   ]
  }
 ],
 "metadata": {
  "kernelspec": {
   "display_name": "Python 3 (ipykernel)",
   "language": "python",
   "name": "python3"
  },
  "language_info": {
   "codemirror_mode": {
    "name": "ipython",
    "version": 3
   },
   "file_extension": ".py",
   "mimetype": "text/x-python",
   "name": "python",
   "nbconvert_exporter": "python",
   "pygments_lexer": "ipython3",
   "version": "3.8.13"
  },
  "varInspector": {
   "cols": {
    "lenName": 16,
    "lenType": 16,
    "lenVar": 40
   },
   "kernels_config": {
    "python": {
     "delete_cmd_postfix": "",
     "delete_cmd_prefix": "del ",
     "library": "var_list.py",
     "varRefreshCmd": "print(var_dic_list())"
    },
    "r": {
     "delete_cmd_postfix": ") ",
     "delete_cmd_prefix": "rm(",
     "library": "var_list.r",
     "varRefreshCmd": "cat(var_dic_list()) "
    }
   },
   "types_to_exclude": [
    "module",
    "function",
    "builtin_function_or_method",
    "instance",
    "_Feature"
   ],
   "window_display": false
  }
 },
 "nbformat": 4,
 "nbformat_minor": 5
}
