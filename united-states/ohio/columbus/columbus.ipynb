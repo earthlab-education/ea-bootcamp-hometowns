{
 "cells": [
  {
   "cell_type": "markdown",
   "id": "d4a5d4a2",
   "metadata": {},
   "source": [
    "## Columbus, Ohio 39.9612 N, 82.9988 W\n",
    "\n",
    "## Population: 906,528 (2021)\n",
    "This population estimate is from the United States Census Burea <a href=\"https://www.census.gov/quickfacts/columbuscityohio\" target=\"_blank\">click this to go there now</a>.\n",
    "\n",
    "## Landmark: The Shoe \n",
    "The Shoe or Horeshoe is the Ohio State University's football stadium. It is the largest stadium by capacity in the state of Ohio and the third largest on-campus football stadium in the United States. \n",
    "![photo of the stadium](https://upload.wikimedia.org/wikipedia/commons/e/e0/Ohio_Stadium_Overhead.jpg)"
   ]
  }
 ],
 "metadata": {
  "kernelspec": {
   "display_name": "Python 3 (ipykernel)",
   "language": "python",
   "name": "python3"
  },
  "language_info": {
   "codemirror_mode": {
    "name": "ipython",
    "version": 3
   },
   "file_extension": ".py",
   "mimetype": "text/x-python",
   "name": "python",
   "nbconvert_exporter": "python",
   "pygments_lexer": "ipython3",
   "version": "3.8.13"
  }
 },
 "nbformat": 4,
 "nbformat_minor": 5
}
