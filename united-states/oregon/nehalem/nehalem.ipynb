{
 "cells": [
  {
   "cell_type": "markdown",
   "id": "c815cc91",
   "metadata": {},
   "source": [
    "## Nehalem, Oregon 45.7201° N, 123.8940° W\n",
    "\n",
    "## Population: 270 (2020)\n",
    "This population estimate is from the United States Census Burea <a href=\"https://www.census.gov/search-results.html?searchType=web&cssp=SERP&q=Nehalem%20city,%20Oregon\" target=\"_blank\">click this to go there now</a>.\n",
    "\n",
    "## Landmark: Nehalem Bay State Park\n",
    "This state park gives beautiful beach views of the bay as well as the mountains nearby.\n",
    "![photo of the stadium](https://heremag-prod-app-deps-s3heremagassets-bfie27mzpk03.s3.amazonaws.com/wp-content/uploads/2020/02/24175125/outofasuitcase-nehalem-oregon-961x1200.jpg)"
   ]
  }
 ],
 "metadata": {
  "kernelspec": {
   "display_name": "Python 3 (ipykernel)",
   "language": "python",
   "name": "python3"
  },
  "language_info": {
   "codemirror_mode": {
    "name": "ipython",
    "version": 3
   },
   "file_extension": ".py",
   "mimetype": "text/x-python",
   "name": "python",
   "nbconvert_exporter": "python",
   "pygments_lexer": "ipython3",
   "version": "3.8.13"
  }
 },
 "nbformat": 4,
 "nbformat_minor": 5
}
