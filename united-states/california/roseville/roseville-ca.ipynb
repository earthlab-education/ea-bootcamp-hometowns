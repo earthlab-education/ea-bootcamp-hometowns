{
 "cells": [
  {
   "cell_type": "markdown",
   "id": "85e63e23-048a-4c0f-ad98-f660981c144a",
   "metadata": {},
   "source": [
    "# Roseville, California, United States"
   ]
  },
  {
   "cell_type": "markdown",
   "id": "ae1cedbc-4b53-46f9-8b31-f63bc085f30b",
   "metadata": {},
   "source": [
    "## Location\n",
    "38.7521° N, 121.2880° W"
   ]
  },
  {
   "cell_type": "markdown",
   "id": "64135536-5b5a-46f5-8a25-1daf7d0871c3",
   "metadata": {},
   "source": [
    "## Population\n",
    "Population: 135,637 (2019)"
   ]
  },
  {
   "cell_type": "markdown",
   "id": "bd03ec58-78d4-4e8e-97e0-a5d33d7c41e0",
   "metadata": {},
   "source": [
    "Information about Roseville, CA can be found at <a href=\"https://en.wikipedia.org/wiki/Roseville,_California\" target=\"_blank\">this link</a>."
   ]
  },
  {
   "cell_type": "markdown",
   "id": "12a813ad-a616-4db2-b9d1-c87348a6772b",
   "metadata": {},
   "source": [
    "## Landmark: Roseville Scuplture"
   ]
  },
  {
   "cell_type": "markdown",
   "id": "539f2d40-438d-41d6-9642-6af1a7841ed9",
   "metadata": {},
   "source": [
    "https://en.wikipedia.org/wiki/Roseville,_California"
   ]
  },
  {
   "cell_type": "markdown",
   "id": "bba5011c-20b6-4215-baf6-e535e42c4452",
   "metadata": {},
   "source": [
    "![Roseville Scuplture image](https://www.capradio.org/umbraco/ImageGen.ashx?image=/media/7028872/062816RoseP.jpg&width=780&altimage=media/11885282/blank.jpg)"
   ]
  },
  {
   "cell_type": "markdown",
   "id": "93dd4623-4a1c-4307-a310-d2264cc1dfe0",
   "metadata": {},
   "source": [
    "\"Giant Red Roseville Scuplture\" located at Scuplture Park in Roseville."
   ]
  },
  {
   "cell_type": "code",
   "execution_count": null,
   "id": "0a1ab716-4c94-4fe4-94dd-6855edc4e896",
   "metadata": {},
   "outputs": [],
   "source": []
  }
 ],
 "metadata": {
  "kernelspec": {
   "display_name": "Python 3 (ipykernel)",
   "language": "python",
   "name": "python3"
  },
  "language_info": {
   "codemirror_mode": {
    "name": "ipython",
    "version": 3
   },
   "file_extension": ".py",
   "mimetype": "text/x-python",
   "name": "python",
   "nbconvert_exporter": "python",
   "pygments_lexer": "ipython3",
   "version": "3.8.10"
  }
 },
 "nbformat": 4,
 "nbformat_minor": 5
}
