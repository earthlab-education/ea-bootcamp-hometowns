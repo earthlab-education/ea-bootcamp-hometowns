{
 "cells": [
  {
   "cell_type": "markdown",
   "id": "3940a496-328f-47b1-a72b-fac149d33fe2",
   "metadata": {},
   "source": [
    "# Menifee\n",
    "## Lat: 33.6971° N\n",
    "## Lon: 117.1853° W\n",
    "## Pop: 106,401 [2021](https://www.census.gov/glossary/#term_Populationestimates)\n",
    "![Menifee ]()"
   ]
  }
 ],
 "metadata": {
  "kernelspec": {
   "display_name": "Python 3 (ipykernel)",
   "language": "python",
   "name": "python3"
  },
  "language_info": {
   "codemirror_mode": {
    "name": "ipython",
    "version": 3
   },
   "file_extension": ".py",
   "mimetype": "text/x-python",
   "name": "python",
   "nbconvert_exporter": "python",
   "pygments_lexer": "ipython3",
   "version": "3.11.4"
  }
 },
 "nbformat": 4,
 "nbformat_minor": 5
}
