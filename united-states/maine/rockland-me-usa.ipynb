{
 "cells": [
  {
   "cell_type": "markdown",
   "id": "5c9b3162",
   "metadata": {},
   "source": [
    "# Location\n",
    "44.1037° N, 69.1089° W\n",
    "\n",
    "# Population\n",
    "7,011 ([US Census Bureau 2022](https://www.census.gov/quickfacts/fact/table/rocklandcitymaine/PST045221?))\n",
    "\n",
    "# Landmark\n",
    "The Rockland Breakwater is over 1,200 m long.\n",
    "![Breakwater](https://upload.wikimedia.org/wikipedia/commons/1/19/Rockland_breakwater.JPG)"
   ]
  }
 ],
 "metadata": {
  "kernelspec": {
   "display_name": "Python 3 (ipykernel)",
   "language": "python",
   "name": "python3"
  },
  "language_info": {
   "codemirror_mode": {
    "name": "ipython",
    "version": 3
   },
   "file_extension": ".py",
   "mimetype": "text/x-python",
   "name": "python",
   "nbconvert_exporter": "python",
   "pygments_lexer": "ipython3",
   "version": "3.8.13"
  },
  "varInspector": {
   "cols": {
    "lenName": 16,
    "lenType": 16,
    "lenVar": 40
   },
   "kernels_config": {
    "python": {
     "delete_cmd_postfix": "",
     "delete_cmd_prefix": "del ",
     "library": "var_list.py",
     "varRefreshCmd": "print(var_dic_list())"
    },
    "r": {
     "delete_cmd_postfix": ") ",
     "delete_cmd_prefix": "rm(",
     "library": "var_list.r",
     "varRefreshCmd": "cat(var_dic_list()) "
    }
   },
   "types_to_exclude": [
    "module",
    "function",
    "builtin_function_or_method",
    "instance",
    "_Feature"
   ],
   "window_display": false
  }
 },
 "nbformat": 4,
 "nbformat_minor": 5
}
