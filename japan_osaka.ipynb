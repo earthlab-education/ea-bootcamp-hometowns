{
  "cells": [
    {
      "cell_type": "markdown",
      "metadata": {
        "id": "view-in-github",
        "colab_type": "text"
      },
      "source": [
        "<a href=\"https://colab.research.google.com/github/mala7891/ea-bootcamp-hometowns/blob/master/japan_osaka.ipynb\" target=\"_parent\"><img src=\"https://colab.research.google.com/assets/colab-badge.svg\" alt=\"Open In Colab\"/></a>"
      ]
    },
    {
      "cell_type": "markdown",
      "metadata": {
        "id": "OMJJ-t9rk4gk"
      },
      "source": [
        "### Lat/Long\n",
        "34.6937° N, 135.5023° E\n",
        "\n",
        "### Population: <a href=\"https://www.macrotrends.net/cities/206459/osaka/population\" target=\"_blank\">19,060,000</a>\n",
        "\n",
        "### Osaka Castle: ![image](https://www.historyhit.com/app/uploads/fly-images/5165482/Osaka-Castle-1576x1074.jpg)\n",
        "\n",
        "Osaka Castle is the former capital of Japan, which was later moved to Tokyo in 1603.\n",
        "\n",
        "The royal family no longer lives in the castle but the structure's grounds serve as a cultural center for political and family gatherings."
      ]
    },
    {
      "cell_type": "markdown",
      "source": [],
      "metadata": {
        "id": "LI2XdW57o--4"
      }
    }
  ],
  "metadata": {
    "kernelspec": {
      "display_name": "Python 3",
      "language": "python",
      "name": "python3"
    },
    "language_info": {
      "codemirror_mode": {
        "name": "ipython",
        "version": 3
      },
      "file_extension": ".py",
      "mimetype": "text/x-python",
      "name": "python",
      "nbconvert_exporter": "python",
      "pygments_lexer": "ipython3",
      "version": "3.7.3"
    },
    "colab": {
      "provenance": [],
      "include_colab_link": true
    }
  },
  "nbformat": 4,
  "nbformat_minor": 0
}