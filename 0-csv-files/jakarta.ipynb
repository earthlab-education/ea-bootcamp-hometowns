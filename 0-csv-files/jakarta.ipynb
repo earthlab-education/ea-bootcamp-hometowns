{
 "cells": [
  {
   "cell_type": "markdown",
   "id": "293e71a7",
   "metadata": {},
   "source": [
    "## Location - 6°12'S, 106°49'E\n",
    "\n",
    "## Population - 10,562,088\n",
    "\n",
    "## Landmark - Historic City Hall of Batavia\n",
    "![Historic City Hall of Batavia](https://upload.wikimedia.org/wikipedia/commons/thumb/1/10/Jakarta_Indonesia_Jakarta-History-Museum-02.jpg/2880px-Jakarta_Indonesia_Jakarta-History-Museum-02.jpg)\n",
    "* The City Hall of Batavia was the colonial center of the Dutch East India Company in the late 18th Century"
   ]
  },
  {
   "cell_type": "markdown",
   "id": "d6f8c2a3",
   "metadata": {},
   "source": [
    "# FACT\n",
    "\n",
    "* Suryaalam12 studied at this town for about 5 years \n",
    "You can visit the university profile at <a href=\"https://universitaspertamina.ac.id/\" target=\"_blank\">at this link</a>\n",
    "        "
   ]
  },
  {
   "cell_type": "code",
   "execution_count": 1,
   "id": "1b36524f",
   "metadata": {},
   "outputs": [],
   "source": [
    "import os\n",
    "\n",
    "import pandas as pd"
   ]
  },
  {
   "cell_type": "code",
   "execution_count": 2,
   "id": "699e2222",
   "metadata": {},
   "outputs": [],
   "source": [
    "dataset = pd.read_csv(\"jakarta-indonesia.csv\")"
   ]
  },
  {
   "cell_type": "code",
   "execution_count": 3,
   "id": "a01f579c",
   "metadata": {},
   "outputs": [
    {
     "data": {
      "text/html": [
       "<div>\n",
       "<style scoped>\n",
       "    .dataframe tbody tr th:only-of-type {\n",
       "        vertical-align: middle;\n",
       "    }\n",
       "\n",
       "    .dataframe tbody tr th {\n",
       "        vertical-align: top;\n",
       "    }\n",
       "\n",
       "    .dataframe thead th {\n",
       "        text-align: right;\n",
       "    }\n",
       "</style>\n",
       "<table border=\"1\" class=\"dataframe\">\n",
       "  <thead>\n",
       "    <tr style=\"text-align: right;\">\n",
       "      <th></th>\n",
       "      <th>who (OPTIONS: cu-student; certificate-student; other)</th>\n",
       "      <th>type</th>\n",
       "      <th>country</th>\n",
       "      <th>state</th>\n",
       "      <th>city</th>\n",
       "      <th>latitude</th>\n",
       "      <th>longitude</th>\n",
       "    </tr>\n",
       "  </thead>\n",
       "  <tbody>\n",
       "    <tr>\n",
       "      <th>0</th>\n",
       "      <td>cu-student</td>\n",
       "      <td>place i've visit</td>\n",
       "      <td>indonesia</td>\n",
       "      <td>jakarta</td>\n",
       "      <td>56°12'S</td>\n",
       "      <td>106°49'E.</td>\n",
       "      <td>NaN</td>\n",
       "    </tr>\n",
       "  </tbody>\n",
       "</table>\n",
       "</div>"
      ],
      "text/plain": [
       "  who (OPTIONS: cu-student; certificate-student; other)              type  \\\n",
       "0                                         cu-student     place i've visit   \n",
       "\n",
       "     country     state     city    latitude   longitude  \n",
       "0  indonesia   jakarta  56°12'S   106°49'E.         NaN  "
      ]
     },
     "execution_count": 3,
     "metadata": {},
     "output_type": "execute_result"
    }
   ],
   "source": [
    "dataset"
   ]
  }
 ],
 "metadata": {
  "kernelspec": {
   "display_name": "Python 3 (ipykernel)",
   "language": "python",
   "name": "python3"
  },
  "language_info": {
   "codemirror_mode": {
    "name": "ipython",
    "version": 3
   },
   "file_extension": ".py",
   "mimetype": "text/x-python",
   "name": "python",
   "nbconvert_exporter": "python",
   "pygments_lexer": "ipython3",
   "version": "3.8.12"
  }
 },
 "nbformat": 4,
 "nbformat_minor": 5
}
