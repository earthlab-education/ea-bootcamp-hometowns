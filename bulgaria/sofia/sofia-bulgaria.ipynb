{
 "cells": [
  {
   "cell_type": "markdown",
   "metadata": {},
   "source": [
    "# Sofia, Bulgaria\n",
    "---\n",
    "## Location\n",
    "Sofia is located at 42.69766872606119N, 23.321752771346443E, in the country of Bulgaria. \n",
    "\n",
    "## Population\n",
    "Sofia has a metro area population of approx. 1.67 million people, as per the 2019 census. (Source [Wikipedia](https://en.wikipedia.org/wiki/Sofia))"
   ]
  }
 ],
 "metadata": {
  "language_info": {
   "name": "python"
  },
  "orig_nbformat": 4
 },
 "nbformat": 4,
 "nbformat_minor": 2
}
