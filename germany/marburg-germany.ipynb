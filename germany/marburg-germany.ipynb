{
 "cells": [
  {
   "cell_type": "markdown",
   "id": "49ef0249",
   "metadata": {},
   "source": [
    "## Location\n",
    "lat 50.8021728\n",
    "lon 8.7667933\n",
    "\n",
    "## Population\n",
    "30.09.2021 - 76.401 [(source)](https://www.orte-in-deutschland.de/20607-einwohnerentwicklung-von-marburg-lahn.html)\n",
    "\n",
    "## Marburg Castle\n",
    "The Marburger Schloss (or Marburg castle), also known as Landgrafenschloss Marburg, is a castle in Marburg, Hesse, Germany, located on top of Schlossberg (287 m NAP). Built in the 11th century as a fort, it became the first residence of Landgraviate of Hesse (HRE). The Marburg Colloquy was held here in 1529.\n",
    "\n",
    "Today the building is used as a museum (Marburger Universitätsmuseum für Kulturgeschichte, Wilhelmsbau, since 1981)[1] and as an event site. \n",
    "![Marburg castle from a distance](https://img.oastatic.com/img2/56304547/max/landgrafenschloss-marburg-aus-der-ferne.jpg)"
   ]
  }
 ],
 "metadata": {
  "kernelspec": {
   "display_name": "Python 3 (ipykernel)",
   "language": "python",
   "name": "python3"
  },
  "language_info": {
   "codemirror_mode": {
    "name": "ipython",
    "version": 3
   },
   "file_extension": ".py",
   "mimetype": "text/x-python",
   "name": "python",
   "nbconvert_exporter": "python",
   "pygments_lexer": "ipython3",
   "version": "3.11.3"
  }
 },
 "nbformat": 4,
 "nbformat_minor": 5
}
